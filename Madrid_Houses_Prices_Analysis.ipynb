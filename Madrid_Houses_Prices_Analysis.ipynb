{
 "cells": [
  {
   "cell_type": "markdown",
   "metadata": {},
   "source": [
    "# Madrdid Houses Dataset: Clean, EDA, Statistical Analysis, and Linear Regression"
   ]
  },
  {
   "cell_type": "markdown",
   "metadata": {},
   "source": [
    "## Import Necessary Libraries"
   ]
  },
  {
   "cell_type": "code",
   "execution_count": 63,
   "metadata": {},
   "outputs": [],
   "source": [
    "import pandas as pd\n",
    "import numpy as np\n",
    "import matplotlib.pyplot as plt\n",
    "import plotly.express as px\n",
    "import seaborn as sns\n",
    "import random"
   ]
  },
  {
   "cell_type": "markdown",
   "metadata": {},
   "source": [
    "## Load and Explore Data"
   ]
  },
  {
   "cell_type": "code",
   "execution_count": 2,
   "metadata": {},
   "outputs": [
    {
     "data": {
      "text/plain": [
       "(21742, 58)"
      ]
     },
     "execution_count": 2,
     "metadata": {},
     "output_type": "execute_result"
    }
   ],
   "source": [
    "path_to_data = 'Path/To/Madrid/Houses/.csv'\n",
    "\n",
    "all_data = pd.read_csv(path_to_data)\n",
    "all_data.shape"
   ]
  },
  {
   "cell_type": "code",
   "execution_count": 3,
   "metadata": {},
   "outputs": [
    {
     "data": {
      "text/plain": [
       "Index(['Unnamed: 0', 'id', 'title', 'subtitle', 'sq_mt_built', 'sq_mt_useful',\n",
       "       'n_rooms', 'n_bathrooms', 'n_floors', 'sq_mt_allotment', 'latitude',\n",
       "       'longitude', 'raw_address', 'is_exact_address_hidden', 'street_name',\n",
       "       'street_number', 'portal', 'floor', 'is_floor_under', 'door',\n",
       "       'neighborhood_id', 'operation', 'rent_price', 'rent_price_by_area',\n",
       "       'is_rent_price_known', 'buy_price', 'buy_price_by_area',\n",
       "       'is_buy_price_known', 'house_type_id', 'is_renewal_needed',\n",
       "       'is_new_development', 'built_year', 'has_central_heating',\n",
       "       'has_individual_heating', 'are_pets_allowed', 'has_ac',\n",
       "       'has_fitted_wardrobes', 'has_lift', 'is_exterior', 'has_garden',\n",
       "       'has_pool', 'has_terrace', 'has_balcony', 'has_storage_room',\n",
       "       'is_furnished', 'is_kitchen_equipped', 'is_accessible',\n",
       "       'has_green_zones', 'energy_certificate', 'has_parking',\n",
       "       'has_private_parking', 'has_public_parking',\n",
       "       'is_parking_included_in_price', 'parking_price', 'is_orientation_north',\n",
       "       'is_orientation_west', 'is_orientation_south', 'is_orientation_east'],\n",
       "      dtype='object')"
      ]
     },
     "execution_count": 3,
     "metadata": {},
     "output_type": "execute_result"
    }
   ],
   "source": [
    "all_data.columns"
   ]
  },
  {
   "cell_type": "markdown",
   "metadata": {},
   "source": [
    "## 1. Data Cleaning"
   ]
  },
  {
   "cell_type": "markdown",
   "metadata": {},
   "source": [
    "### Remove Null Values and Check for Duplicates"
   ]
  },
  {
   "cell_type": "code",
   "execution_count": 4,
   "metadata": {},
   "outputs": [],
   "source": [
    "# Remove NaN values\n",
    "# Check for duplicates\n",
    "# Get specified columns for processing"
   ]
  },
  {
   "cell_type": "code",
   "execution_count": 5,
   "metadata": {},
   "outputs": [
    {
     "data": {
      "text/plain": [
       "(21742, 48)"
      ]
     },
     "execution_count": 5,
     "metadata": {},
     "output_type": "execute_result"
    }
   ],
   "source": [
    "# Remove NaN values\n",
    "all_data = all_data.dropna(axis=1, how='all') # delete columns that are entierly null. # axis=1 --> columns, axis=0 --> rows\n",
    "all_data.shape"
   ]
  },
  {
   "cell_type": "code",
   "execution_count": 6,
   "metadata": {},
   "outputs": [],
   "source": [
    "# Check for duplicates\n",
    "if all_data.duplicated().sum() > 0:\n",
    "    all_data.drop_duplicates()\n",
    "    print('Duplicates have been dropped.')"
   ]
  },
  {
   "cell_type": "code",
   "execution_count": 7,
   "metadata": {},
   "outputs": [
    {
     "data": {
      "text/plain": [
       "Index(['Unnamed: 0', 'id', 'title', 'subtitle', 'sq_mt_built', 'sq_mt_useful',\n",
       "       'n_rooms', 'n_bathrooms', 'n_floors', 'sq_mt_allotment', 'raw_address',\n",
       "       'is_exact_address_hidden', 'street_name', 'street_number', 'floor',\n",
       "       'is_floor_under', 'neighborhood_id', 'operation', 'rent_price',\n",
       "       'is_rent_price_known', 'buy_price', 'buy_price_by_area',\n",
       "       'is_buy_price_known', 'house_type_id', 'is_renewal_needed',\n",
       "       'is_new_development', 'built_year', 'has_central_heating',\n",
       "       'has_individual_heating', 'has_ac', 'has_fitted_wardrobes', 'has_lift',\n",
       "       'is_exterior', 'has_garden', 'has_pool', 'has_terrace', 'has_balcony',\n",
       "       'has_storage_room', 'is_accessible', 'has_green_zones',\n",
       "       'energy_certificate', 'has_parking', 'is_parking_included_in_price',\n",
       "       'parking_price', 'is_orientation_north', 'is_orientation_west',\n",
       "       'is_orientation_south', 'is_orientation_east'],\n",
       "      dtype='object')"
      ]
     },
     "execution_count": 7,
     "metadata": {},
     "output_type": "execute_result"
    }
   ],
   "source": [
    "all_data.columns"
   ]
  },
  {
   "cell_type": "markdown",
   "metadata": {},
   "source": [
    "### Get Specified Columns for Processing"
   ]
  },
  {
   "cell_type": "code",
   "execution_count": 8,
   "metadata": {},
   "outputs": [
    {
     "name": "stdout",
     "output_type": "stream",
     "text": [
      "<class 'pandas.core.frame.DataFrame'>\n",
      "RangeIndex: 21742 entries, 0 to 21741\n",
      "Data columns (total 13 columns):\n",
      " #   Column             Non-Null Count  Dtype  \n",
      "---  ------             --------------  -----  \n",
      " 0   id                 21742 non-null  int64  \n",
      " 1   subtitle           21742 non-null  object \n",
      " 2   sq_mt_built        21616 non-null  float64\n",
      " 3   sq_mt_useful       8228 non-null   float64\n",
      " 4   n_rooms            21742 non-null  int64  \n",
      " 5   n_bathrooms        21726 non-null  float64\n",
      " 6   n_floors           1437 non-null   float64\n",
      " 7   sq_mt_allotment    1432 non-null   float64\n",
      " 8   rent_price         21742 non-null  int64  \n",
      " 9   buy_price          21742 non-null  int64  \n",
      " 10  buy_price_by_area  21742 non-null  int64  \n",
      " 11  built_year         10000 non-null  float64\n",
      " 12  parking_price      7719 non-null   float64\n",
      "dtypes: float64(7), int64(5), object(1)\n",
      "memory usage: 2.2+ MB\n"
     ]
    }
   ],
   "source": [
    "data = all_data[['id', 'subtitle', 'sq_mt_built', 'sq_mt_useful', 'n_rooms', 'n_bathrooms', 'n_floors', \n",
    "                 'sq_mt_allotment', 'rent_price', 'buy_price', 'buy_price_by_area', 'built_year', 'parking_price']]\n",
    "data.info()"
   ]
  },
  {
   "cell_type": "markdown",
   "metadata": {},
   "source": [
    "### Process the Extracted Set"
   ]
  },
  {
   "cell_type": "code",
   "execution_count": 9,
   "metadata": {},
   "outputs": [
    {
     "name": "stdout",
     "output_type": "stream",
     "text": [
      "<class 'pandas.core.frame.DataFrame'>\n",
      "RangeIndex: 21742 entries, 0 to 21741\n",
      "Data columns (total 8 columns):\n",
      " #   Column             Non-Null Count  Dtype  \n",
      "---  ------             --------------  -----  \n",
      " 0   id                 21742 non-null  int64  \n",
      " 1   subtitle           21742 non-null  object \n",
      " 2   sq_mt_built        21616 non-null  float64\n",
      " 3   n_rooms            21742 non-null  int64  \n",
      " 4   n_bathrooms        21726 non-null  float64\n",
      " 5   rent_price         21742 non-null  int64  \n",
      " 6   buy_price          21742 non-null  int64  \n",
      " 7   buy_price_by_area  21742 non-null  int64  \n",
      "dtypes: float64(2), int64(5), object(1)\n",
      "memory usage: 1.3+ MB\n"
     ]
    }
   ],
   "source": [
    "# some columns have a big number of null/missing values, therefore they are not useful and it is better to drop them\n",
    "data = data.drop(columns=['sq_mt_useful', 'n_floors', 'sq_mt_allotment', 'built_year', 'parking_price'])\n",
    "data.info()"
   ]
  },
  {
   "cell_type": "code",
   "execution_count": 10,
   "metadata": {},
   "outputs": [
    {
     "name": "stdout",
     "output_type": "stream",
     "text": [
      "<class 'pandas.core.frame.DataFrame'>\n",
      "RangeIndex: 21742 entries, 0 to 21741\n",
      "Data columns (total 8 columns):\n",
      " #   Column             Non-Null Count  Dtype  \n",
      "---  ------             --------------  -----  \n",
      " 0   id                 21742 non-null  int64  \n",
      " 1   city               21742 non-null  object \n",
      " 2   sq_mt_built        21616 non-null  float64\n",
      " 3   n_rooms            21742 non-null  int64  \n",
      " 4   n_bathrooms        21726 non-null  float64\n",
      " 5   rent_price         21742 non-null  int64  \n",
      " 6   buy_price          21742 non-null  int64  \n",
      " 7   buy_price_by_area  21742 non-null  int64  \n",
      "dtypes: float64(2), int64(5), object(1)\n",
      "memory usage: 1.3+ MB\n"
     ]
    }
   ],
   "source": [
    "# Rename subtitle to city\n",
    "data.rename(columns={'subtitle': 'city'}, inplace=True)\n",
    "data.info()"
   ]
  },
  {
   "cell_type": "code",
   "execution_count": 11,
   "metadata": {},
   "outputs": [
    {
     "data": {
      "text/plain": [
       "count    21742.000000\n",
       "mean         3.005749\n",
       "std          1.510497\n",
       "min          0.000000\n",
       "25%          2.000000\n",
       "50%          3.000000\n",
       "75%          4.000000\n",
       "max         24.000000\n",
       "Name: n_rooms, dtype: float64"
      ]
     },
     "execution_count": 11,
     "metadata": {},
     "output_type": "execute_result"
    }
   ],
   "source": [
    "data.n_rooms.describe()"
   ]
  },
  {
   "cell_type": "code",
   "execution_count": 12,
   "metadata": {},
   "outputs": [
    {
     "data": {
      "text/plain": [
       "(21303, 8)"
      ]
     },
     "execution_count": 12,
     "metadata": {},
     "output_type": "execute_result"
    }
   ],
   "source": [
    "# notice that min=0, some apartments have zero rooms which is incorrect\n",
    "# Remove rows with 0 rooms\n",
    "data.drop(data.index[data.n_rooms == 0], axis=0 , inplace=True)\n",
    "data.shape"
   ]
  },
  {
   "cell_type": "code",
   "execution_count": 13,
   "metadata": {},
   "outputs": [
    {
     "name": "stdout",
     "output_type": "stream",
     "text": [
      "n_bathrooms_mode:  0    1.0\n",
      "Name: n_bathrooms, dtype: float64\n"
     ]
    },
    {
     "name": "stderr",
     "output_type": "stream",
     "text": [
      "C:\\Users\\Hussein\\AppData\\Local\\Temp\\ipykernel_20752\\3460928853.py:5: FutureWarning: A value is trying to be set on a copy of a DataFrame or Series through chained assignment using an inplace method.\n",
      "The behavior will change in pandas 3.0. This inplace method will never work because the intermediate object on which we are setting values always behaves as a copy.\n",
      "\n",
      "For example, when doing 'df[col].method(value, inplace=True)', try using 'df.method({col: value}, inplace=True)' or df[col] = df[col].method(value) instead, to perform the operation inplace on the original object.\n",
      "\n",
      "\n",
      "  data.n_bathrooms.fillna(n_bathrooms_mode, inplace=True)\n"
     ]
    },
    {
     "data": {
      "text/html": [
       "<div>\n",
       "<style scoped>\n",
       "    .dataframe tbody tr th:only-of-type {\n",
       "        vertical-align: middle;\n",
       "    }\n",
       "\n",
       "    .dataframe tbody tr th {\n",
       "        vertical-align: top;\n",
       "    }\n",
       "\n",
       "    .dataframe thead th {\n",
       "        text-align: right;\n",
       "    }\n",
       "</style>\n",
       "<table border=\"1\" class=\"dataframe\">\n",
       "  <thead>\n",
       "    <tr style=\"text-align: right;\">\n",
       "      <th></th>\n",
       "      <th>id</th>\n",
       "      <th>city</th>\n",
       "      <th>sq_mt_built</th>\n",
       "      <th>n_rooms</th>\n",
       "      <th>n_bathrooms</th>\n",
       "      <th>rent_price</th>\n",
       "      <th>buy_price</th>\n",
       "      <th>buy_price_by_area</th>\n",
       "    </tr>\n",
       "  </thead>\n",
       "  <tbody>\n",
       "    <tr>\n",
       "      <th>17201</th>\n",
       "      <td>4541</td>\n",
       "      <td>Vista Alegre, Madrid</td>\n",
       "      <td>93.0</td>\n",
       "      <td>3</td>\n",
       "      <td>1.0</td>\n",
       "      <td>901</td>\n",
       "      <td>195000</td>\n",
       "      <td>2097</td>\n",
       "    </tr>\n",
       "    <tr>\n",
       "      <th>602</th>\n",
       "      <td>21140</td>\n",
       "      <td>San Andrés, Madrid</td>\n",
       "      <td>110.0</td>\n",
       "      <td>4</td>\n",
       "      <td>1.0</td>\n",
       "      <td>913</td>\n",
       "      <td>199000</td>\n",
       "      <td>1809</td>\n",
       "    </tr>\n",
       "    <tr>\n",
       "      <th>1816</th>\n",
       "      <td>19926</td>\n",
       "      <td>Casco Histórico de Vallecas, Madrid</td>\n",
       "      <td>80.0</td>\n",
       "      <td>2</td>\n",
       "      <td>2.0</td>\n",
       "      <td>733</td>\n",
       "      <td>147300</td>\n",
       "      <td>1841</td>\n",
       "    </tr>\n",
       "    <tr>\n",
       "      <th>924</th>\n",
       "      <td>20818</td>\n",
       "      <td>El Cañaveral - Los Berrocales, Madrid</td>\n",
       "      <td>265.0</td>\n",
       "      <td>4</td>\n",
       "      <td>3.0</td>\n",
       "      <td>1300</td>\n",
       "      <td>340700</td>\n",
       "      <td>1286</td>\n",
       "    </tr>\n",
       "    <tr>\n",
       "      <th>14521</th>\n",
       "      <td>7221</td>\n",
       "      <td>Bernabéu-Hispanoamérica, Madrid</td>\n",
       "      <td>257.0</td>\n",
       "      <td>4</td>\n",
       "      <td>5.0</td>\n",
       "      <td>-156000</td>\n",
       "      <td>2700000</td>\n",
       "      <td>10506</td>\n",
       "    </tr>\n",
       "  </tbody>\n",
       "</table>\n",
       "</div>"
      ],
      "text/plain": [
       "          id                                   city  sq_mt_built  n_rooms  \\\n",
       "17201   4541                   Vista Alegre, Madrid         93.0        3   \n",
       "602    21140                     San Andrés, Madrid        110.0        4   \n",
       "1816   19926    Casco Histórico de Vallecas, Madrid         80.0        2   \n",
       "924    20818  El Cañaveral - Los Berrocales, Madrid        265.0        4   \n",
       "14521   7221        Bernabéu-Hispanoamérica, Madrid        257.0        4   \n",
       "\n",
       "       n_bathrooms  rent_price  buy_price  buy_price_by_area  \n",
       "17201          1.0         901     195000               2097  \n",
       "602            1.0         913     199000               1809  \n",
       "1816           2.0         733     147300               1841  \n",
       "924            3.0        1300     340700               1286  \n",
       "14521          5.0     -156000    2700000              10506  "
      ]
     },
     "execution_count": 13,
     "metadata": {},
     "output_type": "execute_result"
    }
   ],
   "source": [
    "# Replace NaN values in n_bathrooms by the mode value of that column. \n",
    "# You always have three options: mean, median, mode. mode is the proper choice in this case.\n",
    "n_bathrooms_mode = data.n_bathrooms.mode()\n",
    "print('n_bathrooms_mode: ', n_bathrooms_mode)\n",
    "data.n_bathrooms.fillna(n_bathrooms_mode, inplace=True)\n",
    "# Replace zero entries with one\n",
    "data.n_bathrooms.replace(0, 1)\n",
    "data.sample(5)"
   ]
  },
  {
   "cell_type": "code",
   "execution_count": 14,
   "metadata": {},
   "outputs": [
    {
     "name": "stdout",
     "output_type": "stream",
     "text": [
      "<class 'pandas.core.frame.DataFrame'>\n",
      "Index: 21303 entries, 0 to 21741\n",
      "Data columns (total 8 columns):\n",
      " #   Column             Non-Null Count  Dtype  \n",
      "---  ------             --------------  -----  \n",
      " 0   id                 21303 non-null  int64  \n",
      " 1   city               21303 non-null  object \n",
      " 2   sq_mt_built        21177 non-null  float64\n",
      " 3   n_rooms            21303 non-null  int64  \n",
      " 4   n_bathrooms        21298 non-null  float64\n",
      " 5   rent_price         21303 non-null  int64  \n",
      " 6   buy_price          21303 non-null  int64  \n",
      " 7   buy_price_by_area  21303 non-null  int64  \n",
      "dtypes: float64(2), int64(5), object(1)\n",
      "memory usage: 1.5+ MB\n"
     ]
    }
   ],
   "source": [
    "data.info()"
   ]
  },
  {
   "cell_type": "code",
   "execution_count": 15,
   "metadata": {},
   "outputs": [
    {
     "data": {
      "text/plain": [
       "(21177, 8)"
      ]
     },
     "execution_count": 15,
     "metadata": {},
     "output_type": "execute_result"
    }
   ],
   "source": [
    "# Drop rows where sq_mt_built is NaN\n",
    "data.dropna(subset=['sq_mt_built'], inplace=True)\n",
    "data.shape"
   ]
  },
  {
   "cell_type": "code",
   "execution_count": 16,
   "metadata": {},
   "outputs": [
    {
     "name": "stdout",
     "output_type": "stream",
     "text": [
      "<class 'pandas.core.frame.DataFrame'>\n",
      "Index: 21177 entries, 0 to 21741\n",
      "Data columns (total 8 columns):\n",
      " #   Column             Non-Null Count  Dtype  \n",
      "---  ------             --------------  -----  \n",
      " 0   id                 21177 non-null  int64  \n",
      " 1   city               21177 non-null  object \n",
      " 2   sq_mt_built        21177 non-null  float64\n",
      " 3   n_rooms            21177 non-null  int64  \n",
      " 4   n_bathrooms        21172 non-null  float64\n",
      " 5   rent_price         21177 non-null  int64  \n",
      " 6   buy_price          21177 non-null  int64  \n",
      " 7   buy_price_by_area  21177 non-null  int64  \n",
      "dtypes: float64(2), int64(5), object(1)\n",
      "memory usage: 1.5+ MB\n"
     ]
    }
   ],
   "source": [
    "data.info()"
   ]
  },
  {
   "cell_type": "code",
   "execution_count": 17,
   "metadata": {},
   "outputs": [
    {
     "data": {
      "text/html": [
       "<div>\n",
       "<style scoped>\n",
       "    .dataframe tbody tr th:only-of-type {\n",
       "        vertical-align: middle;\n",
       "    }\n",
       "\n",
       "    .dataframe tbody tr th {\n",
       "        vertical-align: top;\n",
       "    }\n",
       "\n",
       "    .dataframe thead th {\n",
       "        text-align: right;\n",
       "    }\n",
       "</style>\n",
       "<table border=\"1\" class=\"dataframe\">\n",
       "  <thead>\n",
       "    <tr style=\"text-align: right;\">\n",
       "      <th></th>\n",
       "      <th>id</th>\n",
       "      <th>city</th>\n",
       "      <th>sq_mt_built</th>\n",
       "      <th>n_rooms</th>\n",
       "      <th>n_bathrooms</th>\n",
       "      <th>rent_price</th>\n",
       "      <th>buy_price</th>\n",
       "      <th>buy_price_by_area</th>\n",
       "    </tr>\n",
       "  </thead>\n",
       "  <tbody>\n",
       "    <tr>\n",
       "      <th>10147</th>\n",
       "      <td>11595</td>\n",
       "      <td>Apóstol Santiago, Madrid</td>\n",
       "      <td>84.0</td>\n",
       "      <td>2</td>\n",
       "      <td>2.0</td>\n",
       "      <td>1439</td>\n",
       "      <td>400000</td>\n",
       "      <td>4762</td>\n",
       "    </tr>\n",
       "    <tr>\n",
       "      <th>9472</th>\n",
       "      <td>12270</td>\n",
       "      <td>Sanchinarro, Madrid</td>\n",
       "      <td>153.0</td>\n",
       "      <td>4</td>\n",
       "      <td>3.0</td>\n",
       "      <td>1989</td>\n",
       "      <td>640000</td>\n",
       "      <td>4183</td>\n",
       "    </tr>\n",
       "    <tr>\n",
       "      <th>10366</th>\n",
       "      <td>11376</td>\n",
       "      <td>Virgen del Cortijo - Manoteras, Madrid</td>\n",
       "      <td>118.0</td>\n",
       "      <td>3</td>\n",
       "      <td>2.0</td>\n",
       "      <td>1885</td>\n",
       "      <td>595000</td>\n",
       "      <td>5042</td>\n",
       "    </tr>\n",
       "    <tr>\n",
       "      <th>1524</th>\n",
       "      <td>20218</td>\n",
       "      <td>Casco Histórico de Vallecas, Madrid</td>\n",
       "      <td>100.0</td>\n",
       "      <td>3</td>\n",
       "      <td>1.0</td>\n",
       "      <td>956</td>\n",
       "      <td>212500</td>\n",
       "      <td>2125</td>\n",
       "    </tr>\n",
       "    <tr>\n",
       "      <th>2915</th>\n",
       "      <td>18827</td>\n",
       "      <td>Cuzco-Castillejos, Madrid</td>\n",
       "      <td>63.0</td>\n",
       "      <td>2</td>\n",
       "      <td>2.0</td>\n",
       "      <td>780</td>\n",
       "      <td>160000</td>\n",
       "      <td>2540</td>\n",
       "    </tr>\n",
       "    <tr>\n",
       "      <th>8078</th>\n",
       "      <td>13664</td>\n",
       "      <td>Argüelles, Madrid</td>\n",
       "      <td>53.0</td>\n",
       "      <td>1</td>\n",
       "      <td>1.0</td>\n",
       "      <td>1038</td>\n",
       "      <td>240000</td>\n",
       "      <td>4528</td>\n",
       "    </tr>\n",
       "    <tr>\n",
       "      <th>18613</th>\n",
       "      <td>3129</td>\n",
       "      <td>Chueca-Justicia, Madrid</td>\n",
       "      <td>106.0</td>\n",
       "      <td>4</td>\n",
       "      <td>2.0</td>\n",
       "      <td>1596</td>\n",
       "      <td>469000</td>\n",
       "      <td>4425</td>\n",
       "    </tr>\n",
       "    <tr>\n",
       "      <th>16916</th>\n",
       "      <td>4826</td>\n",
       "      <td>Opañel, Madrid</td>\n",
       "      <td>95.0</td>\n",
       "      <td>2</td>\n",
       "      <td>2.0</td>\n",
       "      <td>1213</td>\n",
       "      <td>305000</td>\n",
       "      <td>3211</td>\n",
       "    </tr>\n",
       "    <tr>\n",
       "      <th>17605</th>\n",
       "      <td>4137</td>\n",
       "      <td>Centro, Madrid</td>\n",
       "      <td>87.0</td>\n",
       "      <td>2</td>\n",
       "      <td>2.0</td>\n",
       "      <td>1712</td>\n",
       "      <td>520000</td>\n",
       "      <td>5977</td>\n",
       "    </tr>\n",
       "    <tr>\n",
       "      <th>7710</th>\n",
       "      <td>14032</td>\n",
       "      <td>Casa de Campo, Madrid</td>\n",
       "      <td>136.0</td>\n",
       "      <td>3</td>\n",
       "      <td>3.0</td>\n",
       "      <td>1758</td>\n",
       "      <td>540000</td>\n",
       "      <td>3971</td>\n",
       "    </tr>\n",
       "  </tbody>\n",
       "</table>\n",
       "</div>"
      ],
      "text/plain": [
       "          id                                    city  sq_mt_built  n_rooms  \\\n",
       "10147  11595                Apóstol Santiago, Madrid         84.0        2   \n",
       "9472   12270                     Sanchinarro, Madrid        153.0        4   \n",
       "10366  11376  Virgen del Cortijo - Manoteras, Madrid        118.0        3   \n",
       "1524   20218     Casco Histórico de Vallecas, Madrid        100.0        3   \n",
       "2915   18827               Cuzco-Castillejos, Madrid         63.0        2   \n",
       "8078   13664                       Argüelles, Madrid         53.0        1   \n",
       "18613   3129                 Chueca-Justicia, Madrid        106.0        4   \n",
       "16916   4826                          Opañel, Madrid         95.0        2   \n",
       "17605   4137                          Centro, Madrid         87.0        2   \n",
       "7710   14032                   Casa de Campo, Madrid        136.0        3   \n",
       "\n",
       "       n_bathrooms  rent_price  buy_price  buy_price_by_area  \n",
       "10147          2.0        1439     400000               4762  \n",
       "9472           3.0        1989     640000               4183  \n",
       "10366          2.0        1885     595000               5042  \n",
       "1524           1.0         956     212500               2125  \n",
       "2915           2.0         780     160000               2540  \n",
       "8078           1.0        1038     240000               4528  \n",
       "18613          2.0        1596     469000               4425  \n",
       "16916          2.0        1213     305000               3211  \n",
       "17605          2.0        1712     520000               5977  \n",
       "7710           3.0        1758     540000               3971  "
      ]
     },
     "execution_count": 17,
     "metadata": {},
     "output_type": "execute_result"
    }
   ],
   "source": [
    "data.sample(10)"
   ]
  },
  {
   "cell_type": "code",
   "execution_count": 18,
   "metadata": {},
   "outputs": [],
   "source": [
    "# Change negative values in rent_price to zero\n",
    "for value in data.rent_price.values:\n",
    "    if value < 0:\n",
    "        data.rent_price = 0"
   ]
  },
  {
   "cell_type": "code",
   "execution_count": 19,
   "metadata": {},
   "outputs": [
    {
     "data": {
      "text/html": [
       "<div>\n",
       "<style scoped>\n",
       "    .dataframe tbody tr th:only-of-type {\n",
       "        vertical-align: middle;\n",
       "    }\n",
       "\n",
       "    .dataframe tbody tr th {\n",
       "        vertical-align: top;\n",
       "    }\n",
       "\n",
       "    .dataframe thead th {\n",
       "        text-align: right;\n",
       "    }\n",
       "</style>\n",
       "<table border=\"1\" class=\"dataframe\">\n",
       "  <thead>\n",
       "    <tr style=\"text-align: right;\">\n",
       "      <th></th>\n",
       "      <th>id</th>\n",
       "      <th>city</th>\n",
       "      <th>sq_mt_built</th>\n",
       "      <th>n_rooms</th>\n",
       "      <th>n_bathrooms</th>\n",
       "      <th>rent_price</th>\n",
       "      <th>buy_price</th>\n",
       "      <th>buy_price_by_area</th>\n",
       "    </tr>\n",
       "  </thead>\n",
       "  <tbody>\n",
       "  </tbody>\n",
       "</table>\n",
       "</div>"
      ],
      "text/plain": [
       "Empty DataFrame\n",
       "Columns: [id, city, sq_mt_built, n_rooms, n_bathrooms, rent_price, buy_price, buy_price_by_area]\n",
       "Index: []"
      ]
     },
     "execution_count": 19,
     "metadata": {},
     "output_type": "execute_result"
    }
   ],
   "source": [
    "# To check if there are any negative rows left\n",
    "data[data.rent_price < 0]"
   ]
  },
  {
   "cell_type": "code",
   "execution_count": 20,
   "metadata": {},
   "outputs": [
    {
     "data": {
      "text/html": [
       "<div>\n",
       "<style scoped>\n",
       "    .dataframe tbody tr th:only-of-type {\n",
       "        vertical-align: middle;\n",
       "    }\n",
       "\n",
       "    .dataframe tbody tr th {\n",
       "        vertical-align: top;\n",
       "    }\n",
       "\n",
       "    .dataframe thead th {\n",
       "        text-align: right;\n",
       "    }\n",
       "</style>\n",
       "<table border=\"1\" class=\"dataframe\">\n",
       "  <thead>\n",
       "    <tr style=\"text-align: right;\">\n",
       "      <th></th>\n",
       "      <th>id</th>\n",
       "      <th>city</th>\n",
       "      <th>sq_mt_built</th>\n",
       "      <th>n_rooms</th>\n",
       "      <th>n_bathrooms</th>\n",
       "      <th>rent_price</th>\n",
       "      <th>buy_price</th>\n",
       "      <th>buy_price_by_area</th>\n",
       "    </tr>\n",
       "  </thead>\n",
       "  <tbody>\n",
       "    <tr>\n",
       "      <th>2701</th>\n",
       "      <td>19041</td>\n",
       "      <td>Berruguete, Madrid</td>\n",
       "      <td>250.0</td>\n",
       "      <td>4</td>\n",
       "      <td>5.0</td>\n",
       "      <td>0</td>\n",
       "      <td>625000</td>\n",
       "      <td>2500</td>\n",
       "    </tr>\n",
       "    <tr>\n",
       "      <th>19430</th>\n",
       "      <td>2312</td>\n",
       "      <td>Goya, Madrid</td>\n",
       "      <td>124.0</td>\n",
       "      <td>3</td>\n",
       "      <td>2.0</td>\n",
       "      <td>0</td>\n",
       "      <td>650000</td>\n",
       "      <td>5242</td>\n",
       "    </tr>\n",
       "    <tr>\n",
       "      <th>10552</th>\n",
       "      <td>11190</td>\n",
       "      <td>Sanchinarro, Madrid</td>\n",
       "      <td>161.0</td>\n",
       "      <td>4</td>\n",
       "      <td>3.0</td>\n",
       "      <td>0</td>\n",
       "      <td>836650</td>\n",
       "      <td>5197</td>\n",
       "    </tr>\n",
       "    <tr>\n",
       "      <th>4282</th>\n",
       "      <td>17460</td>\n",
       "      <td>Pacífico, Madrid</td>\n",
       "      <td>150.0</td>\n",
       "      <td>4</td>\n",
       "      <td>2.0</td>\n",
       "      <td>0</td>\n",
       "      <td>510000</td>\n",
       "      <td>3400</td>\n",
       "    </tr>\n",
       "    <tr>\n",
       "      <th>6983</th>\n",
       "      <td>14759</td>\n",
       "      <td>Moncloa, Madrid</td>\n",
       "      <td>285.0</td>\n",
       "      <td>5</td>\n",
       "      <td>4.0</td>\n",
       "      <td>0</td>\n",
       "      <td>745000</td>\n",
       "      <td>2614</td>\n",
       "    </tr>\n",
       "    <tr>\n",
       "      <th>3931</th>\n",
       "      <td>17811</td>\n",
       "      <td>Niño Jesús, Madrid</td>\n",
       "      <td>167.0</td>\n",
       "      <td>4</td>\n",
       "      <td>2.0</td>\n",
       "      <td>0</td>\n",
       "      <td>1050000</td>\n",
       "      <td>6287</td>\n",
       "    </tr>\n",
       "    <tr>\n",
       "      <th>16369</th>\n",
       "      <td>5373</td>\n",
       "      <td>Puerta Bonita, Madrid</td>\n",
       "      <td>110.0</td>\n",
       "      <td>3</td>\n",
       "      <td>1.0</td>\n",
       "      <td>0</td>\n",
       "      <td>220000</td>\n",
       "      <td>2000</td>\n",
       "    </tr>\n",
       "    <tr>\n",
       "      <th>11363</th>\n",
       "      <td>10379</td>\n",
       "      <td>Nuevos Ministerios-Ríos Rosas, Madrid</td>\n",
       "      <td>65.0</td>\n",
       "      <td>2</td>\n",
       "      <td>1.0</td>\n",
       "      <td>0</td>\n",
       "      <td>299000</td>\n",
       "      <td>4600</td>\n",
       "    </tr>\n",
       "    <tr>\n",
       "      <th>18424</th>\n",
       "      <td>3318</td>\n",
       "      <td>Lavapiés-Embajadores, Madrid</td>\n",
       "      <td>83.0</td>\n",
       "      <td>2</td>\n",
       "      <td>1.0</td>\n",
       "      <td>0</td>\n",
       "      <td>349000</td>\n",
       "      <td>4205</td>\n",
       "    </tr>\n",
       "    <tr>\n",
       "      <th>1723</th>\n",
       "      <td>20019</td>\n",
       "      <td>Villa de Vallecas, Madrid</td>\n",
       "      <td>96.0</td>\n",
       "      <td>1</td>\n",
       "      <td>1.0</td>\n",
       "      <td>0</td>\n",
       "      <td>164000</td>\n",
       "      <td>1708</td>\n",
       "    </tr>\n",
       "  </tbody>\n",
       "</table>\n",
       "</div>"
      ],
      "text/plain": [
       "          id                                   city  sq_mt_built  n_rooms  \\\n",
       "2701   19041                     Berruguete, Madrid        250.0        4   \n",
       "19430   2312                           Goya, Madrid        124.0        3   \n",
       "10552  11190                    Sanchinarro, Madrid        161.0        4   \n",
       "4282   17460                       Pacífico, Madrid        150.0        4   \n",
       "6983   14759                        Moncloa, Madrid        285.0        5   \n",
       "3931   17811                     Niño Jesús, Madrid        167.0        4   \n",
       "16369   5373                  Puerta Bonita, Madrid        110.0        3   \n",
       "11363  10379  Nuevos Ministerios-Ríos Rosas, Madrid         65.0        2   \n",
       "18424   3318           Lavapiés-Embajadores, Madrid         83.0        2   \n",
       "1723   20019              Villa de Vallecas, Madrid         96.0        1   \n",
       "\n",
       "       n_bathrooms  rent_price  buy_price  buy_price_by_area  \n",
       "2701           5.0           0     625000               2500  \n",
       "19430          2.0           0     650000               5242  \n",
       "10552          3.0           0     836650               5197  \n",
       "4282           2.0           0     510000               3400  \n",
       "6983           4.0           0     745000               2614  \n",
       "3931           2.0           0    1050000               6287  \n",
       "16369          1.0           0     220000               2000  \n",
       "11363          1.0           0     299000               4600  \n",
       "18424          1.0           0     349000               4205  \n",
       "1723           1.0           0     164000               1708  "
      ]
     },
     "execution_count": 20,
     "metadata": {},
     "output_type": "execute_result"
    }
   ],
   "source": [
    "data.sample(10)"
   ]
  },
  {
   "cell_type": "code",
   "execution_count": 21,
   "metadata": {},
   "outputs": [
    {
     "name": "stdout",
     "output_type": "stream",
     "text": [
      "<class 'pandas.core.frame.DataFrame'>\n",
      "Index: 21177 entries, 0 to 21741\n",
      "Data columns (total 9 columns):\n",
      " #   Column             Non-Null Count  Dtype  \n",
      "---  ------             --------------  -----  \n",
      " 0   id                 21177 non-null  int64  \n",
      " 1   city               21177 non-null  object \n",
      " 2   sq_mt_built        21177 non-null  float64\n",
      " 3   n_rooms            21177 non-null  int64  \n",
      " 4   n_bathrooms        21172 non-null  float64\n",
      " 5   rent_price         21177 non-null  int64  \n",
      " 6   buy_price          21177 non-null  int64  \n",
      " 7   buy_price_by_area  21177 non-null  int64  \n",
      " 8   district           21177 non-null  object \n",
      "dtypes: float64(2), int64(5), object(2)\n",
      "memory usage: 1.6+ MB\n"
     ]
    }
   ],
   "source": [
    "# split city column into district and city. City is always Madrid, so exclude it from columns and keep district only\n",
    "data['district'] = data.city.str.split(',', expand=True)[0]\n",
    "data.info()"
   ]
  },
  {
   "cell_type": "code",
   "execution_count": 22,
   "metadata": {},
   "outputs": [
    {
     "data": {
      "text/plain": [
       "Index(['id', 'city', 'sq_mt_built', 'n_rooms', 'n_bathrooms', 'rent_price',\n",
       "       'buy_price', 'buy_price_by_area', 'district'],\n",
       "      dtype='object')"
      ]
     },
     "execution_count": 22,
     "metadata": {},
     "output_type": "execute_result"
    }
   ],
   "source": [
    "data.columns"
   ]
  },
  {
   "cell_type": "code",
   "execution_count": 23,
   "metadata": {},
   "outputs": [
    {
     "name": "stdout",
     "output_type": "stream",
     "text": [
      "<class 'pandas.core.frame.DataFrame'>\n",
      "Index: 21177 entries, 0 to 21741\n",
      "Data columns (total 8 columns):\n",
      " #   Column             Non-Null Count  Dtype  \n",
      "---  ------             --------------  -----  \n",
      " 0   id                 21177 non-null  int64  \n",
      " 1   district           21177 non-null  object \n",
      " 2   sq_mt_built        21177 non-null  float64\n",
      " 3   n_rooms            21177 non-null  int64  \n",
      " 4   n_bathrooms        21172 non-null  float64\n",
      " 5   rent_price         21177 non-null  int64  \n",
      " 6   buy_price          21177 non-null  int64  \n",
      " 7   buy_price_by_area  21177 non-null  int64  \n",
      "dtypes: float64(2), int64(5), object(1)\n",
      "memory usage: 1.5+ MB\n"
     ]
    }
   ],
   "source": [
    "data = data[['id',  'district', 'sq_mt_built', 'n_rooms', 'n_bathrooms', 'rent_price', 'buy_price', 'buy_price_by_area']]\n",
    "data.info()"
   ]
  },
  {
   "cell_type": "code",
   "execution_count": 24,
   "metadata": {},
   "outputs": [
    {
     "data": {
      "text/html": [
       "<div>\n",
       "<style scoped>\n",
       "    .dataframe tbody tr th:only-of-type {\n",
       "        vertical-align: middle;\n",
       "    }\n",
       "\n",
       "    .dataframe tbody tr th {\n",
       "        vertical-align: top;\n",
       "    }\n",
       "\n",
       "    .dataframe thead th {\n",
       "        text-align: right;\n",
       "    }\n",
       "</style>\n",
       "<table border=\"1\" class=\"dataframe\">\n",
       "  <thead>\n",
       "    <tr style=\"text-align: right;\">\n",
       "      <th></th>\n",
       "      <th>id</th>\n",
       "      <th>district</th>\n",
       "      <th>sq_mt_built</th>\n",
       "      <th>n_rooms</th>\n",
       "      <th>n_bathrooms</th>\n",
       "      <th>rent_price</th>\n",
       "      <th>buy_price</th>\n",
       "      <th>buy_price_by_area</th>\n",
       "    </tr>\n",
       "  </thead>\n",
       "  <tbody>\n",
       "    <tr>\n",
       "      <th>6461</th>\n",
       "      <td>15281</td>\n",
       "      <td>Latina</td>\n",
       "      <td>127.0</td>\n",
       "      <td>4</td>\n",
       "      <td>2.0</td>\n",
       "      <td>0</td>\n",
       "      <td>290000</td>\n",
       "      <td>2283</td>\n",
       "    </tr>\n",
       "    <tr>\n",
       "      <th>19902</th>\n",
       "      <td>1840</td>\n",
       "      <td>Barrio de Salamanca</td>\n",
       "      <td>124.0</td>\n",
       "      <td>2</td>\n",
       "      <td>2.0</td>\n",
       "      <td>0</td>\n",
       "      <td>1110000</td>\n",
       "      <td>8952</td>\n",
       "    </tr>\n",
       "    <tr>\n",
       "      <th>10798</th>\n",
       "      <td>10944</td>\n",
       "      <td>Pinar del Rey</td>\n",
       "      <td>83.0</td>\n",
       "      <td>3</td>\n",
       "      <td>2.0</td>\n",
       "      <td>0</td>\n",
       "      <td>292000</td>\n",
       "      <td>3518</td>\n",
       "    </tr>\n",
       "    <tr>\n",
       "      <th>12969</th>\n",
       "      <td>8773</td>\n",
       "      <td>Colina</td>\n",
       "      <td>345.0</td>\n",
       "      <td>5</td>\n",
       "      <td>4.0</td>\n",
       "      <td>0</td>\n",
       "      <td>1375000</td>\n",
       "      <td>3986</td>\n",
       "    </tr>\n",
       "    <tr>\n",
       "      <th>15027</th>\n",
       "      <td>6715</td>\n",
       "      <td>Prosperidad</td>\n",
       "      <td>135.0</td>\n",
       "      <td>4</td>\n",
       "      <td>3.0</td>\n",
       "      <td>0</td>\n",
       "      <td>785000</td>\n",
       "      <td>5815</td>\n",
       "    </tr>\n",
       "  </tbody>\n",
       "</table>\n",
       "</div>"
      ],
      "text/plain": [
       "          id             district  sq_mt_built  n_rooms  n_bathrooms  \\\n",
       "6461   15281               Latina        127.0        4          2.0   \n",
       "19902   1840  Barrio de Salamanca        124.0        2          2.0   \n",
       "10798  10944        Pinar del Rey         83.0        3          2.0   \n",
       "12969   8773               Colina        345.0        5          4.0   \n",
       "15027   6715          Prosperidad        135.0        4          3.0   \n",
       "\n",
       "       rent_price  buy_price  buy_price_by_area  \n",
       "6461            0     290000               2283  \n",
       "19902           0    1110000               8952  \n",
       "10798           0     292000               3518  \n",
       "12969           0    1375000               3986  \n",
       "15027           0     785000               5815  "
      ]
     },
     "execution_count": 24,
     "metadata": {},
     "output_type": "execute_result"
    }
   ],
   "source": [
    "data.sample(5)"
   ]
  },
  {
   "cell_type": "markdown",
   "metadata": {},
   "source": [
    "### Re-Explore the dataset and understand the remaining columns"
   ]
  },
  {
   "cell_type": "code",
   "execution_count": 25,
   "metadata": {},
   "outputs": [
    {
     "data": {
      "text/html": [
       "<div>\n",
       "<style scoped>\n",
       "    .dataframe tbody tr th:only-of-type {\n",
       "        vertical-align: middle;\n",
       "    }\n",
       "\n",
       "    .dataframe tbody tr th {\n",
       "        vertical-align: top;\n",
       "    }\n",
       "\n",
       "    .dataframe thead th {\n",
       "        text-align: right;\n",
       "    }\n",
       "</style>\n",
       "<table border=\"1\" class=\"dataframe\">\n",
       "  <thead>\n",
       "    <tr style=\"text-align: right;\">\n",
       "      <th></th>\n",
       "      <th>Unnamed: 0</th>\n",
       "      <th>id</th>\n",
       "      <th>title</th>\n",
       "      <th>subtitle</th>\n",
       "      <th>sq_mt_built</th>\n",
       "      <th>sq_mt_useful</th>\n",
       "      <th>n_rooms</th>\n",
       "      <th>n_bathrooms</th>\n",
       "      <th>n_floors</th>\n",
       "      <th>sq_mt_allotment</th>\n",
       "      <th>...</th>\n",
       "      <th>is_accessible</th>\n",
       "      <th>has_green_zones</th>\n",
       "      <th>energy_certificate</th>\n",
       "      <th>has_parking</th>\n",
       "      <th>is_parking_included_in_price</th>\n",
       "      <th>parking_price</th>\n",
       "      <th>is_orientation_north</th>\n",
       "      <th>is_orientation_west</th>\n",
       "      <th>is_orientation_south</th>\n",
       "      <th>is_orientation_east</th>\n",
       "    </tr>\n",
       "  </thead>\n",
       "  <tbody>\n",
       "    <tr>\n",
       "      <th>15530</th>\n",
       "      <td>15530</td>\n",
       "      <td>6212</td>\n",
       "      <td>Piso en venta en calle de Canillas</td>\n",
       "      <td>Prosperidad, Madrid</td>\n",
       "      <td>74.0</td>\n",
       "      <td>61.0</td>\n",
       "      <td>3</td>\n",
       "      <td>1.0</td>\n",
       "      <td>NaN</td>\n",
       "      <td>NaN</td>\n",
       "      <td>...</td>\n",
       "      <td>NaN</td>\n",
       "      <td>NaN</td>\n",
       "      <td>E</td>\n",
       "      <td>False</td>\n",
       "      <td>NaN</td>\n",
       "      <td>NaN</td>\n",
       "      <td>NaN</td>\n",
       "      <td>NaN</td>\n",
       "      <td>NaN</td>\n",
       "      <td>NaN</td>\n",
       "    </tr>\n",
       "    <tr>\n",
       "      <th>13369</th>\n",
       "      <td>13369</td>\n",
       "      <td>8373</td>\n",
       "      <td>Piso en venta en calle de Emilio Vargas, 18</td>\n",
       "      <td>San Juan Bautista, Madrid</td>\n",
       "      <td>130.0</td>\n",
       "      <td>NaN</td>\n",
       "      <td>2</td>\n",
       "      <td>1.0</td>\n",
       "      <td>NaN</td>\n",
       "      <td>NaN</td>\n",
       "      <td>...</td>\n",
       "      <td>True</td>\n",
       "      <td>True</td>\n",
       "      <td>no indicado</td>\n",
       "      <td>True</td>\n",
       "      <td>True</td>\n",
       "      <td>0.0</td>\n",
       "      <td>NaN</td>\n",
       "      <td>NaN</td>\n",
       "      <td>NaN</td>\n",
       "      <td>NaN</td>\n",
       "    </tr>\n",
       "    <tr>\n",
       "      <th>4996</th>\n",
       "      <td>4996</td>\n",
       "      <td>16746</td>\n",
       "      <td>Casa o chalet independiente en venta en calle...</td>\n",
       "      <td>Entrevías, Madrid</td>\n",
       "      <td>69.0</td>\n",
       "      <td>NaN</td>\n",
       "      <td>2</td>\n",
       "      <td>1.0</td>\n",
       "      <td>NaN</td>\n",
       "      <td>NaN</td>\n",
       "      <td>...</td>\n",
       "      <td>NaN</td>\n",
       "      <td>NaN</td>\n",
       "      <td>en trámite</td>\n",
       "      <td>False</td>\n",
       "      <td>NaN</td>\n",
       "      <td>NaN</td>\n",
       "      <td>NaN</td>\n",
       "      <td>NaN</td>\n",
       "      <td>NaN</td>\n",
       "      <td>NaN</td>\n",
       "    </tr>\n",
       "    <tr>\n",
       "      <th>17654</th>\n",
       "      <td>17654</td>\n",
       "      <td>4088</td>\n",
       "      <td>Piso en venta en calle de Lepanto, 4</td>\n",
       "      <td>Palacio, Madrid</td>\n",
       "      <td>152.0</td>\n",
       "      <td>NaN</td>\n",
       "      <td>2</td>\n",
       "      <td>2.0</td>\n",
       "      <td>NaN</td>\n",
       "      <td>NaN</td>\n",
       "      <td>...</td>\n",
       "      <td>NaN</td>\n",
       "      <td>NaN</td>\n",
       "      <td>D</td>\n",
       "      <td>False</td>\n",
       "      <td>NaN</td>\n",
       "      <td>NaN</td>\n",
       "      <td>NaN</td>\n",
       "      <td>NaN</td>\n",
       "      <td>NaN</td>\n",
       "      <td>NaN</td>\n",
       "    </tr>\n",
       "    <tr>\n",
       "      <th>1533</th>\n",
       "      <td>1533</td>\n",
       "      <td>20209</td>\n",
       "      <td>Piso en venta en camino de la Suerte</td>\n",
       "      <td>Casco Histórico de Vallecas, Madrid</td>\n",
       "      <td>51.0</td>\n",
       "      <td>NaN</td>\n",
       "      <td>2</td>\n",
       "      <td>1.0</td>\n",
       "      <td>NaN</td>\n",
       "      <td>NaN</td>\n",
       "      <td>...</td>\n",
       "      <td>NaN</td>\n",
       "      <td>NaN</td>\n",
       "      <td>en trámite</td>\n",
       "      <td>False</td>\n",
       "      <td>NaN</td>\n",
       "      <td>NaN</td>\n",
       "      <td>NaN</td>\n",
       "      <td>NaN</td>\n",
       "      <td>NaN</td>\n",
       "      <td>NaN</td>\n",
       "    </tr>\n",
       "  </tbody>\n",
       "</table>\n",
       "<p>5 rows × 48 columns</p>\n",
       "</div>"
      ],
      "text/plain": [
       "       Unnamed: 0     id                                              title  \\\n",
       "15530       15530   6212                 Piso en venta en calle de Canillas   \n",
       "13369       13369   8373        Piso en venta en calle de Emilio Vargas, 18   \n",
       "4996         4996  16746   Casa o chalet independiente en venta en calle...   \n",
       "17654       17654   4088               Piso en venta en calle de Lepanto, 4   \n",
       "1533         1533  20209               Piso en venta en camino de la Suerte   \n",
       "\n",
       "                                  subtitle  sq_mt_built  sq_mt_useful  \\\n",
       "15530                  Prosperidad, Madrid         74.0          61.0   \n",
       "13369            San Juan Bautista, Madrid        130.0           NaN   \n",
       "4996                     Entrevías, Madrid         69.0           NaN   \n",
       "17654                      Palacio, Madrid        152.0           NaN   \n",
       "1533   Casco Histórico de Vallecas, Madrid         51.0           NaN   \n",
       "\n",
       "       n_rooms  n_bathrooms  n_floors  sq_mt_allotment  ... is_accessible  \\\n",
       "15530        3          1.0       NaN              NaN  ...           NaN   \n",
       "13369        2          1.0       NaN              NaN  ...          True   \n",
       "4996         2          1.0       NaN              NaN  ...           NaN   \n",
       "17654        2          2.0       NaN              NaN  ...           NaN   \n",
       "1533         2          1.0       NaN              NaN  ...           NaN   \n",
       "\n",
       "       has_green_zones energy_certificate has_parking  \\\n",
       "15530              NaN                  E       False   \n",
       "13369             True        no indicado        True   \n",
       "4996               NaN         en trámite       False   \n",
       "17654              NaN                  D       False   \n",
       "1533               NaN         en trámite       False   \n",
       "\n",
       "      is_parking_included_in_price parking_price is_orientation_north  \\\n",
       "15530                          NaN           NaN                  NaN   \n",
       "13369                         True           0.0                  NaN   \n",
       "4996                           NaN           NaN                  NaN   \n",
       "17654                          NaN           NaN                  NaN   \n",
       "1533                           NaN           NaN                  NaN   \n",
       "\n",
       "      is_orientation_west  is_orientation_south  is_orientation_east  \n",
       "15530                 NaN                   NaN                  NaN  \n",
       "13369                 NaN                   NaN                  NaN  \n",
       "4996                  NaN                   NaN                  NaN  \n",
       "17654                 NaN                   NaN                  NaN  \n",
       "1533                  NaN                   NaN                  NaN  \n",
       "\n",
       "[5 rows x 48 columns]"
      ]
     },
     "execution_count": 25,
     "metadata": {},
     "output_type": "execute_result"
    }
   ],
   "source": [
    "all_data.sample(5)"
   ]
  },
  {
   "cell_type": "code",
   "execution_count": 26,
   "metadata": {},
   "outputs": [
    {
     "data": {
      "text/plain": [
       "Index(['Unnamed: 0', 'id', 'title', 'subtitle', 'sq_mt_built', 'sq_mt_useful',\n",
       "       'n_rooms', 'n_bathrooms', 'n_floors', 'sq_mt_allotment', 'raw_address',\n",
       "       'is_exact_address_hidden', 'street_name', 'street_number', 'floor',\n",
       "       'is_floor_under', 'neighborhood_id', 'operation', 'rent_price',\n",
       "       'is_rent_price_known', 'buy_price', 'buy_price_by_area',\n",
       "       'is_buy_price_known', 'house_type_id', 'is_renewal_needed',\n",
       "       'is_new_development', 'built_year', 'has_central_heating',\n",
       "       'has_individual_heating', 'has_ac', 'has_fitted_wardrobes', 'has_lift',\n",
       "       'is_exterior', 'has_garden', 'has_pool', 'has_terrace', 'has_balcony',\n",
       "       'has_storage_room', 'is_accessible', 'has_green_zones',\n",
       "       'energy_certificate', 'has_parking', 'is_parking_included_in_price',\n",
       "       'parking_price', 'is_orientation_north', 'is_orientation_west',\n",
       "       'is_orientation_south', 'is_orientation_east'],\n",
       "      dtype='object')"
      ]
     },
     "execution_count": 26,
     "metadata": {},
     "output_type": "execute_result"
    }
   ],
   "source": [
    "all_data.columns"
   ]
  },
  {
   "cell_type": "code",
   "execution_count": 27,
   "metadata": {},
   "outputs": [
    {
     "name": "stdout",
     "output_type": "stream",
     "text": [
      "<class 'pandas.core.frame.DataFrame'>\n",
      "RangeIndex: 21742 entries, 0 to 21741\n",
      "Data columns (total 3 columns):\n",
      " #   Column                   Non-Null Count  Dtype \n",
      "---  ------                   --------------  ----- \n",
      " 0   raw_address              16277 non-null  object\n",
      " 1   is_exact_address_hidden  21742 non-null  bool  \n",
      " 2   street_name              15837 non-null  object\n",
      "dtypes: bool(1), object(2)\n",
      "memory usage: 361.1+ KB\n"
     ]
    }
   ],
   "source": [
    "all_data[[ 'raw_address','is_exact_address_hidden', 'street_name' ]].info()\n",
    "# it is obvious that these three column contain high amount of null values and therefore they will not adding value to future analysis, keep them out of consideration"
   ]
  },
  {
   "cell_type": "code",
   "execution_count": 28,
   "metadata": {},
   "outputs": [
    {
     "data": {
      "text/plain": [
       "array(['sale'], dtype=object)"
      ]
     },
     "execution_count": 28,
     "metadata": {},
     "output_type": "execute_result"
    }
   ],
   "source": [
    "all_data.operation.unique()"
   ]
  },
  {
   "cell_type": "code",
   "execution_count": 29,
   "metadata": {},
   "outputs": [
    {
     "data": {
      "text/plain": [
       "array([ True])"
      ]
     },
     "execution_count": 29,
     "metadata": {},
     "output_type": "execute_result"
    }
   ],
   "source": [
    "all_data.is_buy_price_known.unique() # this indicates that the buy price is known, and the numeric values in the buy_price column are true and expressive "
   ]
  },
  {
   "cell_type": "code",
   "execution_count": 30,
   "metadata": {},
   "outputs": [
    {
     "data": {
      "text/plain": [
       "array([False])"
      ]
     },
     "execution_count": 30,
     "metadata": {},
     "output_type": "execute_result"
    }
   ],
   "source": [
    "all_data.is_rent_price_known.unique() # it has only False value, this indicate that the rent price might not be true and therefore it has no real importance and can be dropped"
   ]
  },
  {
   "cell_type": "code",
   "execution_count": 31,
   "metadata": {},
   "outputs": [],
   "source": [
    "# Drop rent_price column from data\n",
    "data = data.drop(columns=['rent_price'])"
   ]
  },
  {
   "cell_type": "code",
   "execution_count": 32,
   "metadata": {},
   "outputs": [
    {
     "name": "stdout",
     "output_type": "stream",
     "text": [
      "<class 'pandas.core.frame.DataFrame'>\n",
      "RangeIndex: 21742 entries, 0 to 21741\n",
      "Data columns (total 2 columns):\n",
      " #   Column              Non-Null Count  Dtype \n",
      "---  ------              --------------  ----- \n",
      " 0   house_type_id       21351 non-null  object\n",
      " 1   is_new_development  20750 non-null  object\n",
      "dtypes: object(2)\n",
      "memory usage: 339.8+ KB\n"
     ]
    }
   ],
   "source": [
    "all_data[['house_type_id', 'is_new_development']].info()"
   ]
  },
  {
   "cell_type": "markdown",
   "metadata": {},
   "source": [
    "### Export the final result into a .CSV file"
   ]
  },
  {
   "cell_type": "code",
   "execution_count": 33,
   "metadata": {},
   "outputs": [
    {
     "name": "stdout",
     "output_type": "stream",
     "text": [
      "<class 'pandas.core.frame.DataFrame'>\n",
      "Index: 21177 entries, 0 to 21741\n",
      "Data columns (total 7 columns):\n",
      " #   Column             Non-Null Count  Dtype  \n",
      "---  ------             --------------  -----  \n",
      " 0   id                 21177 non-null  int64  \n",
      " 1   district           21177 non-null  object \n",
      " 2   sq_mt_built        21177 non-null  float64\n",
      " 3   n_rooms            21177 non-null  int64  \n",
      " 4   n_bathrooms        21172 non-null  float64\n",
      " 5   buy_price          21177 non-null  int64  \n",
      " 6   buy_price_by_area  21177 non-null  int64  \n",
      "dtypes: float64(2), int64(4), object(1)\n",
      "memory usage: 1.3+ MB\n"
     ]
    }
   ],
   "source": [
    "# final resutl\n",
    "data.info()"
   ]
  },
  {
   "cell_type": "code",
   "execution_count": 34,
   "metadata": {},
   "outputs": [
    {
     "data": {
      "text/html": [
       "<div>\n",
       "<style scoped>\n",
       "    .dataframe tbody tr th:only-of-type {\n",
       "        vertical-align: middle;\n",
       "    }\n",
       "\n",
       "    .dataframe tbody tr th {\n",
       "        vertical-align: top;\n",
       "    }\n",
       "\n",
       "    .dataframe thead th {\n",
       "        text-align: right;\n",
       "    }\n",
       "</style>\n",
       "<table border=\"1\" class=\"dataframe\">\n",
       "  <thead>\n",
       "    <tr style=\"text-align: right;\">\n",
       "      <th></th>\n",
       "      <th>id</th>\n",
       "      <th>district</th>\n",
       "      <th>sq_mt_built</th>\n",
       "      <th>n_rooms</th>\n",
       "      <th>n_bathrooms</th>\n",
       "      <th>buy_price</th>\n",
       "      <th>buy_price_by_area</th>\n",
       "    </tr>\n",
       "  </thead>\n",
       "  <tbody>\n",
       "    <tr>\n",
       "      <th>741</th>\n",
       "      <td>21001</td>\n",
       "      <td>Villaverde</td>\n",
       "      <td>76.0</td>\n",
       "      <td>3</td>\n",
       "      <td>1.0</td>\n",
       "      <td>107300</td>\n",
       "      <td>1412</td>\n",
       "    </tr>\n",
       "    <tr>\n",
       "      <th>12348</th>\n",
       "      <td>9394</td>\n",
       "      <td>Vallehermoso</td>\n",
       "      <td>163.0</td>\n",
       "      <td>4</td>\n",
       "      <td>2.0</td>\n",
       "      <td>589000</td>\n",
       "      <td>3613</td>\n",
       "    </tr>\n",
       "    <tr>\n",
       "      <th>16668</th>\n",
       "      <td>5074</td>\n",
       "      <td>Pau de Carabanchel</td>\n",
       "      <td>90.0</td>\n",
       "      <td>2</td>\n",
       "      <td>2.0</td>\n",
       "      <td>295000</td>\n",
       "      <td>3278</td>\n",
       "    </tr>\n",
       "    <tr>\n",
       "      <th>5696</th>\n",
       "      <td>16046</td>\n",
       "      <td>Palomeras Bajas</td>\n",
       "      <td>79.0</td>\n",
       "      <td>2</td>\n",
       "      <td>1.0</td>\n",
       "      <td>119000</td>\n",
       "      <td>1506</td>\n",
       "    </tr>\n",
       "    <tr>\n",
       "      <th>12224</th>\n",
       "      <td>9518</td>\n",
       "      <td>Gaztambide</td>\n",
       "      <td>113.0</td>\n",
       "      <td>3</td>\n",
       "      <td>2.0</td>\n",
       "      <td>1168362</td>\n",
       "      <td>10339</td>\n",
       "    </tr>\n",
       "  </tbody>\n",
       "</table>\n",
       "</div>"
      ],
      "text/plain": [
       "          id            district  sq_mt_built  n_rooms  n_bathrooms  \\\n",
       "741    21001          Villaverde         76.0        3          1.0   \n",
       "12348   9394        Vallehermoso        163.0        4          2.0   \n",
       "16668   5074  Pau de Carabanchel         90.0        2          2.0   \n",
       "5696   16046     Palomeras Bajas         79.0        2          1.0   \n",
       "12224   9518          Gaztambide        113.0        3          2.0   \n",
       "\n",
       "       buy_price  buy_price_by_area  \n",
       "741       107300               1412  \n",
       "12348     589000               3613  \n",
       "16668     295000               3278  \n",
       "5696      119000               1506  \n",
       "12224    1168362              10339  "
      ]
     },
     "execution_count": 34,
     "metadata": {},
     "output_type": "execute_result"
    }
   ],
   "source": [
    "data.sample(5)"
   ]
  },
  {
   "cell_type": "code",
   "execution_count": 35,
   "metadata": {},
   "outputs": [],
   "source": [
    "# save final resutls\n",
    "\n",
    "path_to_result = 'Path/To/Madrid/Houses/Final/Result.csv'\n",
    "\n",
    "data.to_csv(path_to_result)"
   ]
  },
  {
   "cell_type": "code",
   "execution_count": 36,
   "metadata": {},
   "outputs": [
    {
     "name": "stdout",
     "output_type": "stream",
     "text": [
      "<class 'pandas.core.frame.DataFrame'>\n",
      "Index: 21177 entries, 0 to 21741\n",
      "Data columns (total 7 columns):\n",
      " #   Column             Non-Null Count  Dtype  \n",
      "---  ------             --------------  -----  \n",
      " 0   id                 21177 non-null  int64  \n",
      " 1   district           21177 non-null  object \n",
      " 2   sq_mt_built        21177 non-null  float64\n",
      " 3   n_rooms            21177 non-null  int64  \n",
      " 4   n_bathrooms        21172 non-null  float64\n",
      " 5   buy_price          21177 non-null  int64  \n",
      " 6   buy_price_by_area  21177 non-null  int64  \n",
      "dtypes: float64(2), int64(4), object(1)\n",
      "memory usage: 1.3+ MB\n"
     ]
    }
   ],
   "source": [
    "data.info()"
   ]
  },
  {
   "cell_type": "markdown",
   "metadata": {},
   "source": [
    "# 2. EDA: Exploratory Data Analysis"
   ]
  },
  {
   "cell_type": "markdown",
   "metadata": {},
   "source": [
    "### Histogram and Boxenplot"
   ]
  },
  {
   "cell_type": "code",
   "execution_count": 37,
   "metadata": {},
   "outputs": [
    {
     "data": {
      "image/png": "[encoded data removed]",
      "text/plain": [
       "<Figure size 2000x800 with 5 Axes>"
      ]
     },
     "metadata": {},
     "output_type": "display_data"
    }
   ],
   "source": [
    "# Numerical columns\n",
    "plt.figure(figsize=(20,8))\n",
    "for i, col_name in enumerate(data.columns[2:]):\n",
    "    plt.subplot(2, 3, i+1)\n",
    "    plt.title(f'Distribution of {col_name} ')\n",
    "    sns.histplot(data=data[col_name])\n",
    "    plt.tight_layout()\n"
   ]
  },
  {
   "cell_type": "code",
   "execution_count": 38,
   "metadata": {},
   "outputs": [
    {
     "data": {
      "image/png": "[encoded data removed]",
      "text/plain": [
       "<Figure size 2000x800 with 5 Axes>"
      ]
     },
     "metadata": {},
     "output_type": "display_data"
    }
   ],
   "source": [
    "# Numerical columns\n",
    "plt.figure(figsize=(20,8))\n",
    "for i, col_name in enumerate(data.columns[2:]):\n",
    "    plt.subplot(2, 3, i+1)\n",
    "    plt.title(f'Distribution of {col_name} ')\n",
    "    sns.boxenplot(x=data[col_name])\n",
    "    plt.tight_layout()\n"
   ]
  },
  {
   "cell_type": "code",
   "execution_count": 39,
   "metadata": {},
   "outputs": [
    {
     "data": {
      "application/vnd.plotly.v1+json": {
       "config": {
        "plotlyServerURL": "https://plot.ly"
       },
       "data": [
        {
         "alignmentgroup": "True",
         "hovertemplate": "variable=count<br>district=%{x}<br>value=%{y}<extra></extra>",
         "legendgroup": "count",
         "marker": {
          "color": "#636efa",
          "pattern": {
           "shape": ""
          }
         },
         "name": "count",
         "offsetgroup": "count",
         "orientation": "v",
         "showlegend": true,
         "textposition": "auto",
         "type": "bar",
         "x": [
          "Chamartín",
          "Moncloa",
          "Chamberí",
          "Centro",
          "Hortaleza",
          "Barrio de Salamanca",
          "Fuencarral",
          "Malasaña-Universidad",
          "Lavapiés-Embajadores",
          "Tetuán",
          "Ensanche de Vallecas - La Gavia",
          "Prosperidad",
          "Pueblo Nuevo",
          "Ciudad Lineal",
          "El Cañaveral - Los Berrocales",
          "San Diego",
          "Argüelles",
          "San Isidro",
          "Retiro",
          "Cuatro Caminos",
          "Ventas",
          "San Andrés",
          "Peñagrande",
          "Trafalgar",
          "Almagro",
          "Vista Alegre",
          "Numancia",
          "Chueca-Justicia",
          "Nuevos Ministerios-Ríos Rosas",
          "Bellas Vistas",
          "Valdeacederas",
          "Carabanchel",
          "Puerta Bonita",
          "Gaztambide",
          "Sanchinarro",
          "Bernabéu-Hispanoamérica",
          "Abrantes",
          "Delicias",
          "Goya",
          "Palacio",
          "Puerta del Ángel",
          "Aravaca",
          "Pacífico",
          "Conde Orgaz-Piovera",
          "Arapiles",
          "Pinar del Rey",
          "Butarque",
          "El Viso",
          "Casco Histórico de Vallecas",
          "Puente de Vallecas",
          "Acacias",
          "Opañel",
          "Palomeras sureste",
          "Cuzco-Castillejos",
          "Vallehermoso",
          "Berruguete",
          "Valdebebas - Valdefuentes",
          "Canillas",
          "Nueva España",
          "Imperial",
          "Ciudad Universitaria",
          "Palomeras Bajas",
          "Lucero",
          "Villaverde",
          "Almendrales",
          "Aluche",
          "Ibiza",
          "Palos de Moguer",
          "Legazpi",
          "Guindalera",
          "Los Rosales",
          "Valdezarza",
          "Chopera",
          "Moscardó",
          "Usera",
          "Buena Vista",
          "Quintana",
          "Pilar",
          "Arganzuela",
          "Recoletos",
          "Comillas",
          "Adelfas",
          "Castilla",
          "Entrevías",
          "Concepción",
          "Huertas-Cortes",
          "Las Tablas",
          "Costillares",
          "Estrella",
          "La Paz",
          "Los Ángeles",
          "Lista",
          "Villa de Vallecas",
          "Latina",
          "Pradolongo",
          "Tres Olivos - Valverde",
          "Ciudad Jardín",
          "Ventilla-Almenara",
          "Mirasierra",
          "Águilas",
          "Castellana",
          "San Pascual",
          "Pau de Carabanchel",
          "Ambroz",
          "San Cristóbal",
          "San Fermín",
          "Portazgo",
          "Casco Histórico de Vicálvaro",
          "Fontarrón",
          "Sol",
          "Marroquina",
          "Valdemarín",
          "Los Cármenes",
          "Montecarmelo",
          "Palomas",
          "Casa de Campo",
          "Orcasitas",
          "Jerónimos",
          "Colina",
          "Vicálvaro",
          "San Juan Bautista",
          "Apóstol Santiago",
          "Santa Eugenia",
          "Campamento",
          "Zofío",
          "Fuente del Berro",
          "Valdebernardo - Valderribas",
          "Vinateros",
          "Moratalaz",
          "12 de Octubre-Orcasur",
          "Media Legua",
          "Fuentelarreina",
          "Virgen del Cortijo - Manoteras",
          "Niño Jesús",
          "El Plantío",
          "Atalaya",
          "Arroyo del Fresno",
          "Pavones",
          "El Pardo",
          "Alameda de Osuna",
          "Horcajo",
          "Barajas",
          "Campo de las Naciones-Corralejos",
          "Casco Histórico de Barajas",
          "Timón",
          "Cuatro Vientos"
         ],
         "xaxis": "x",
         "y": [
          840,
          692,
          576,
          541,
          482,
          457,
          371,
          327,
          310,
          292,
          288,
          284,
          277,
          274,
          266,
          261,
          253,
          248,
          238,
          231,
          228,
          217,
          215,
          212,
          212,
          209,
          208,
          202,
          199,
          198,
          198,
          196,
          195,
          195,
          192,
          187,
          181,
          181,
          181,
          176,
          174,
          171,
          171,
          167,
          166,
          166,
          162,
          162,
          157,
          155,
          152,
          149,
          149,
          149,
          147,
          147,
          142,
          139,
          138,
          138,
          137,
          136,
          136,
          133,
          133,
          133,
          133,
          132,
          132,
          132,
          131,
          131,
          128,
          122,
          122,
          120,
          114,
          113,
          113,
          113,
          111,
          111,
          109,
          108,
          103,
          102,
          100,
          99,
          97,
          93,
          92,
          90,
          87,
          85,
          85,
          85,
          85,
          83,
          82,
          81,
          79,
          79,
          75,
          75,
          74,
          74,
          74,
          73,
          72,
          71,
          69,
          69,
          68,
          67,
          63,
          62,
          60,
          60,
          59,
          58,
          58,
          54,
          53,
          51,
          50,
          47,
          44,
          43,
          40,
          40,
          37,
          37,
          35,
          34,
          31,
          27,
          20,
          14,
          12,
          12,
          11,
          7,
          6,
          5,
          4,
          1
         ],
         "yaxis": "y"
        }
       ],
       "layout": {
        "barmode": "relative",
        "legend": {
         "title": {
          "text": "variable"
         },
         "tracegroupgap": 0
        },
        "template": {
         "data": {
          "bar": [
           {
            "error_x": {
             "color": "#2a3f5f"
            },
            "error_y": {
             "color": "#2a3f5f"
            },
            "marker": {
             "line": {
              "color": "#E5ECF6",
              "width": 0.5
             },
             "pattern": {
              "fillmode": "overlay",
              "size": 10,
              "solidity": 0.2
             }
            },
            "type": "bar"
           }
          ],
          "barpolar": [
           {
            "marker": {
             "line": {
              "color": "#E5ECF6",
              "width": 0.5
             },
             "pattern": {
              "fillmode": "overlay",
              "size": 10,
              "solidity": 0.2
             }
            },
            "type": "barpolar"
           }
          ],
          "carpet": [
           {
            "aaxis": {
             "endlinecolor": "#2a3f5f",
             "gridcolor": "white",
             "linecolor": "white",
             "minorgridcolor": "white",
             "startlinecolor": "#2a3f5f"
            },
            "baxis": {
             "endlinecolor": "#2a3f5f",
             "gridcolor": "white",
             "linecolor": "white",
             "minorgridcolor": "white",
             "startlinecolor": "#2a3f5f"
            },
            "type": "carpet"
           }
          ],
          "choropleth": [
           {
            "colorbar": {
             "outlinewidth": 0,
             "ticks": ""
            },
            "type": "choropleth"
           }
          ],
          "contour": [
           {
            "colorbar": {
             "outlinewidth": 0,
             "ticks": ""
            },
            "colorscale": [
             [
              0,
              "#0d0887"
             ],
             [
              0.1111111111111111,
              "#46039f"
             ],
             [
              0.2222222222222222,
              "#7201a8"
             ],
             [
              0.3333333333333333,
              "#9c179e"
             ],
             [
              0.4444444444444444,
              "#bd3786"
             ],
             [
              0.5555555555555556,
              "#d8576b"
             ],
             [
              0.6666666666666666,
              "#ed7953"
             ],
             [
              0.7777777777777778,
              "#fb9f3a"
             ],
             [
              0.8888888888888888,
              "#fdca26"
             ],
             [
              1,
              "#f0f921"
             ]
            ],
            "type": "contour"
           }
          ],
          "contourcarpet": [
           {
            "colorbar": {
             "outlinewidth": 0,
             "ticks": ""
            },
            "type": "contourcarpet"
           }
          ],
          "heatmap": [
           {
            "colorbar": {
             "outlinewidth": 0,
             "ticks": ""
            },
            "colorscale": [
             [
              0,
              "#0d0887"
             ],
             [
              0.1111111111111111,
              "#46039f"
             ],
             [
              0.2222222222222222,
              "#7201a8"
             ],
             [
              0.3333333333333333,
              "#9c179e"
             ],
             [
              0.4444444444444444,
              "#bd3786"
             ],
             [
              0.5555555555555556,
              "#d8576b"
             ],
             [
              0.6666666666666666,
              "#ed7953"
             ],
             [
              0.7777777777777778,
              "#fb9f3a"
             ],
             [
              0.8888888888888888,
              "#fdca26"
             ],
             [
              1,
              "#f0f921"
             ]
            ],
            "type": "heatmap"
           }
          ],
          "heatmapgl": [
           {
            "colorbar": {
             "outlinewidth": 0,
             "ticks": ""
            },
            "colorscale": [
             [
              0,
              "#0d0887"
             ],
             [
              0.1111111111111111,
              "#46039f"
             ],
             [
              0.2222222222222222,
              "#7201a8"
             ],
             [
              0.3333333333333333,
              "#9c179e"
             ],
             [
              0.4444444444444444,
              "#bd3786"
             ],
             [
              0.5555555555555556,
              "#d8576b"
             ],
             [
              0.6666666666666666,
              "#ed7953"
             ],
             [
              0.7777777777777778,
              "#fb9f3a"
             ],
             [
              0.8888888888888888,
              "#fdca26"
             ],
             [
              1,
              "#f0f921"
             ]
            ],
            "type": "heatmapgl"
           }
          ],
          "histogram": [
           {
            "marker": {
             "pattern": {
              "fillmode": "overlay",
              "size": 10,
              "solidity": 0.2
             }
            },
            "type": "histogram"
           }
          ],
          "histogram2d": [
           {
            "colorbar": {
             "outlinewidth": 0,
             "ticks": ""
            },
            "colorscale": [
             [
              0,
              "#0d0887"
             ],
             [
              0.1111111111111111,
              "#46039f"
             ],
             [
              0.2222222222222222,
              "#7201a8"
             ],
             [
              0.3333333333333333,
              "#9c179e"
             ],
             [
              0.4444444444444444,
              "#bd3786"
             ],
             [
              0.5555555555555556,
              "#d8576b"
             ],
             [
              0.6666666666666666,
              "#ed7953"
             ],
             [
              0.7777777777777778,
              "#fb9f3a"
             ],
             [
              0.8888888888888888,
              "#fdca26"
             ],
             [
              1,
              "#f0f921"
             ]
            ],
            "type": "histogram2d"
           }
          ],
          "histogram2dcontour": [
           {
            "colorbar": {
             "outlinewidth": 0,
             "ticks": ""
            },
            "colorscale": [
             [
              0,
              "#0d0887"
             ],
             [
              0.1111111111111111,
              "#46039f"
             ],
             [
              0.2222222222222222,
              "#7201a8"
             ],
             [
              0.3333333333333333,
              "#9c179e"
             ],
             [
              0.4444444444444444,
              "#bd3786"
             ],
             [
              0.5555555555555556,
              "#d8576b"
             ],
             [
              0.6666666666666666,
              "#ed7953"
             ],
             [
              0.7777777777777778,
              "#fb9f3a"
             ],
             [
              0.8888888888888888,
              "#fdca26"
             ],
             [
              1,
              "#f0f921"
             ]
            ],
            "type": "histogram2dcontour"
           }
          ],
          "mesh3d": [
           {
            "colorbar": {
             "outlinewidth": 0,
             "ticks": ""
            },
            "type": "mesh3d"
           }
          ],
          "parcoords": [
           {
            "line": {
             "colorbar": {
              "outlinewidth": 0,
              "ticks": ""
             }
            },
            "type": "parcoords"
           }
          ],
          "pie": [
           {
            "automargin": true,
            "type": "pie"
           }
          ],
          "scatter": [
           {
            "fillpattern": {
             "fillmode": "overlay",
             "size": 10,
             "solidity": 0.2
            },
            "type": "scatter"
           }
          ],
          "scatter3d": [
           {
            "line": {
             "colorbar": {
              "outlinewidth": 0,
              "ticks": ""
             }
            },
            "marker": {
             "colorbar": {
              "outlinewidth": 0,
              "ticks": ""
             }
            },
            "type": "scatter3d"
           }
          ],
          "scattercarpet": [
           {
            "marker": {
             "colorbar": {
              "outlinewidth": 0,
              "ticks": ""
             }
            },
            "type": "scattercarpet"
           }
          ],
          "scattergeo": [
           {
            "marker": {
             "colorbar": {
              "outlinewidth": 0,
              "ticks": ""
             }
            },
            "type": "scattergeo"
           }
          ],
          "scattergl": [
           {
            "marker": {
             "colorbar": {
              "outlinewidth": 0,
              "ticks": ""
             }
            },
            "type": "scattergl"
           }
          ],
          "scattermapbox": [
           {
            "marker": {
             "colorbar": {
              "outlinewidth": 0,
              "ticks": ""
             }
            },
            "type": "scattermapbox"
           }
          ],
          "scatterpolar": [
           {
            "marker": {
             "colorbar": {
              "outlinewidth": 0,
              "ticks": ""
             }
            },
            "type": "scatterpolar"
           }
          ],
          "scatterpolargl": [
           {
            "marker": {
             "colorbar": {
              "outlinewidth": 0,
              "ticks": ""
             }
            },
            "type": "scatterpolargl"
           }
          ],
          "scatterternary": [
           {
            "marker": {
             "colorbar": {
              "outlinewidth": 0,
              "ticks": ""
             }
            },
            "type": "scatterternary"
           }
          ],
          "surface": [
           {
            "colorbar": {
             "outlinewidth": 0,
             "ticks": ""
            },
            "colorscale": [
             [
              0,
              "#0d0887"
             ],
             [
              0.1111111111111111,
              "#46039f"
             ],
             [
              0.2222222222222222,
              "#7201a8"
             ],
             [
              0.3333333333333333,
              "#9c179e"
             ],
             [
              0.4444444444444444,
              "#bd3786"
             ],
             [
              0.5555555555555556,
              "#d8576b"
             ],
             [
              0.6666666666666666,
              "#ed7953"
             ],
             [
              0.7777777777777778,
              "#fb9f3a"
             ],
             [
              0.8888888888888888,
              "#fdca26"
             ],
             [
              1,
              "#f0f921"
             ]
            ],
            "type": "surface"
           }
          ],
          "table": [
           {
            "cells": {
             "fill": {
              "color": "#EBF0F8"
             },
             "line": {
              "color": "white"
             }
            },
            "header": {
             "fill": {
              "color": "#C8D4E3"
             },
             "line": {
              "color": "white"
             }
            },
            "type": "table"
           }
          ]
         },
         "layout": {
          "annotationdefaults": {
           "arrowcolor": "#2a3f5f",
           "arrowhead": 0,
           "arrowwidth": 1
          },
          "autotypenumbers": "strict",
          "coloraxis": {
           "colorbar": {
            "outlinewidth": 0,
            "ticks": ""
           }
          },
          "colorscale": {
           "diverging": [
            [
             0,
             "#8e0152"
            ],
            [
             0.1,
             "#c51b7d"
            ],
            [
             0.2,
             "#de77ae"
            ],
            [
             0.3,
             "#f1b6da"
            ],
            [
             0.4,
             "#fde0ef"
            ],
            [
             0.5,
             "#f7f7f7"
            ],
            [
             0.6,
             "#e6f5d0"
            ],
            [
             0.7,
             "#b8e186"
            ],
            [
             0.8,
             "#7fbc41"
            ],
            [
             0.9,
             "#4d9221"
            ],
            [
             1,
             "#276419"
            ]
           ],
           "sequential": [
            [
             0,
             "#0d0887"
            ],
            [
             0.1111111111111111,
             "#46039f"
            ],
            [
             0.2222222222222222,
             "#7201a8"
            ],
            [
             0.3333333333333333,
             "#9c179e"
            ],
            [
             0.4444444444444444,
             "#bd3786"
            ],
            [
             0.5555555555555556,
             "#d8576b"
            ],
            [
             0.6666666666666666,
             "#ed7953"
            ],
            [
             0.7777777777777778,
             "#fb9f3a"
            ],
            [
             0.8888888888888888,
             "#fdca26"
            ],
            [
             1,
             "#f0f921"
            ]
           ],
           "sequentialminus": [
            [
             0,
             "#0d0887"
            ],
            [
             0.1111111111111111,
             "#46039f"
            ],
            [
             0.2222222222222222,
             "#7201a8"
            ],
            [
             0.3333333333333333,
             "#9c179e"
            ],
            [
             0.4444444444444444,
             "#bd3786"
            ],
            [
             0.5555555555555556,
             "#d8576b"
            ],
            [
             0.6666666666666666,
             "#ed7953"
            ],
            [
             0.7777777777777778,
             "#fb9f3a"
            ],
            [
             0.8888888888888888,
             "#fdca26"
            ],
            [
             1,
             "#f0f921"
            ]
           ]
          },
          "colorway": [
           "#636efa",
           "#EF553B",
           "#00cc96",
           "#ab63fa",
           "#FFA15A",
           "#19d3f3",
           "#FF6692",
           "#B6E880",
           "#FF97FF",
           "#FECB52"
          ],
          "font": {
           "color": "#2a3f5f"
          },
          "geo": {
           "bgcolor": "white",
           "lakecolor": "white",
           "landcolor": "#E5ECF6",
           "showlakes": true,
           "showland": true,
           "subunitcolor": "white"
          },
          "hoverlabel": {
           "align": "left"
          },
          "hovermode": "closest",
          "mapbox": {
           "style": "light"
          },
          "paper_bgcolor": "white",
          "plot_bgcolor": "#E5ECF6",
          "polar": {
           "angularaxis": {
            "gridcolor": "white",
            "linecolor": "white",
            "ticks": ""
           },
           "bgcolor": "#E5ECF6",
           "radialaxis": {
            "gridcolor": "white",
            "linecolor": "white",
            "ticks": ""
           }
          },
          "scene": {
           "xaxis": {
            "backgroundcolor": "#E5ECF6",
            "gridcolor": "white",
            "gridwidth": 2,
            "linecolor": "white",
            "showbackground": true,
            "ticks": "",
            "zerolinecolor": "white"
           },
           "yaxis": {
            "backgroundcolor": "#E5ECF6",
            "gridcolor": "white",
            "gridwidth": 2,
            "linecolor": "white",
            "showbackground": true,
            "ticks": "",
            "zerolinecolor": "white"
           },
           "zaxis": {
            "backgroundcolor": "#E5ECF6",
            "gridcolor": "white",
            "gridwidth": 2,
            "linecolor": "white",
            "showbackground": true,
            "ticks": "",
            "zerolinecolor": "white"
           }
          },
          "shapedefaults": {
           "line": {
            "color": "#2a3f5f"
           }
          },
          "ternary": {
           "aaxis": {
            "gridcolor": "white",
            "linecolor": "white",
            "ticks": ""
           },
           "baxis": {
            "gridcolor": "white",
            "linecolor": "white",
            "ticks": ""
           },
           "bgcolor": "#E5ECF6",
           "caxis": {
            "gridcolor": "white",
            "linecolor": "white",
            "ticks": ""
           }
          },
          "title": {
           "x": 0.05
          },
          "xaxis": {
           "automargin": true,
           "gridcolor": "white",
           "linecolor": "white",
           "ticks": "",
           "title": {
            "standoff": 15
           },
           "zerolinecolor": "white",
           "zerolinewidth": 2
          },
          "yaxis": {
           "automargin": true,
           "gridcolor": "white",
           "linecolor": "white",
           "ticks": "",
           "title": {
            "standoff": 15
           },
           "zerolinecolor": "white",
           "zerolinewidth": 2
          }
         }
        },
        "title": {
         "text": "Distribution of Districts in Madrid"
        },
        "xaxis": {
         "anchor": "y",
         "domain": [
          0,
          1
         ],
         "title": {
          "text": "district"
         }
        },
        "yaxis": {
         "anchor": "x",
         "domain": [
          0,
          1
         ],
         "title": {
          "text": "value"
         }
        }
       }
      }
     },
     "metadata": {},
     "output_type": "display_data"
    }
   ],
   "source": [
    "px.bar(data_frame=data.district.value_counts(), title='Distribution of Districts in Madrid')"
   ]
  },
  {
   "cell_type": "markdown",
   "metadata": {},
   "source": [
    "# 3. Statistical Analysis"
   ]
  },
  {
   "cell_type": "markdown",
   "metadata": {},
   "source": [
    "### Correlation Coefficient: Bivariate Analysis"
   ]
  },
  {
   "cell_type": "code",
   "execution_count": 40,
   "metadata": {},
   "outputs": [
    {
     "data": {
      "image/png": "[encoded data removed]",
      "text/plain": [
       "<Figure size 750x750 with 12 Axes>"
      ]
     },
     "metadata": {},
     "output_type": "display_data"
    }
   ],
   "source": [
    "corr_data = data[['sq_mt_built', 'n_rooms', 'n_bathrooms']]\n",
    "\n",
    "sns.pairplot(corr_data)\n",
    "plt.tight_layout()"
   ]
  },
  {
   "cell_type": "code",
   "execution_count": 41,
   "metadata": {},
   "outputs": [
    {
     "data": {
      "text/plain": [
       "Text(0.5, 1.0, 'Corrleation between: Area (sqm), #Rooms, #Bathrooms')"
      ]
     },
     "execution_count": 41,
     "metadata": {},
     "output_type": "execute_result"
    },
    {
     "data": {
      "image/png": "[encoded data removed]",
      "text/plain": [
       "<Figure size 640x480 with 2 Axes>"
      ]
     },
     "metadata": {},
     "output_type": "display_data"
    }
   ],
   "source": [
    "# For an easier understanding of the correlation between these three quantities, we construct a heatmap\n",
    "sns.heatmap(corr_data.corr(), annot=True)\n",
    "plt.title('Corrleation between: Area (sqm), #Rooms, #Bathrooms')\n"
   ]
  },
  {
   "cell_type": "code",
   "execution_count": 42,
   "metadata": {},
   "outputs": [],
   "source": [
    "# Translation of the heatmap:\n",
    "# diagonal entries are the correlation between the quantities and themselves, and therefore useless\n",
    "# Lower off-diagonal entries are expressive and indicate that the relationship between three quantities is very strong (positive); 0.7 to 1\n",
    "# Upper off-diagonal entries are the reflection of lower off-diagonal entries and can be neglected"
   ]
  },
  {
   "cell_type": "code",
   "execution_count": 43,
   "metadata": {},
   "outputs": [
    {
     "data": {
      "text/plain": [
       "Text(0.5, 1.0, 'Corrleation between: Buy Price, Area (sqm), #Rooms, #Bathrooms')"
      ]
     },
     "execution_count": 43,
     "metadata": {},
     "output_type": "execute_result"
    },
    {
     "data": {
      "image/png": "[encoded data removed]",
      "text/plain": [
       "<Figure size 640x480 with 2 Axes>"
      ]
     },
     "metadata": {},
     "output_type": "display_data"
    }
   ],
   "source": [
    "# To find out the feature that has the strongest relationship (correlation) with the target of buy_price, we construct the following heatmap\n",
    "corr_data = data[['buy_price', 'sq_mt_built', 'n_rooms', 'n_bathrooms' ]]\n",
    "sns.heatmap(corr_data.corr(), annot=True)\n",
    "plt.title('Corrleation between: Buy Price, Area (sqm), #Rooms, #Bathrooms')\n"
   ]
  },
  {
   "cell_type": "code",
   "execution_count": 44,
   "metadata": {},
   "outputs": [],
   "source": [
    "# with a correlation coefficient of 0.83 between buy price and area (m2), we can say that it has the strongest relationship."
   ]
  },
  {
   "cell_type": "code",
   "execution_count": 45,
   "metadata": {},
   "outputs": [
    {
     "data": {
      "text/html": [
       "<div>\n",
       "<style scoped>\n",
       "    .dataframe tbody tr th:only-of-type {\n",
       "        vertical-align: middle;\n",
       "    }\n",
       "\n",
       "    .dataframe tbody tr th {\n",
       "        vertical-align: top;\n",
       "    }\n",
       "\n",
       "    .dataframe thead th {\n",
       "        text-align: right;\n",
       "    }\n",
       "</style>\n",
       "<table border=\"1\" class=\"dataframe\">\n",
       "  <thead>\n",
       "    <tr style=\"text-align: right;\">\n",
       "      <th></th>\n",
       "      <th>id</th>\n",
       "      <th>district</th>\n",
       "      <th>sq_mt_built</th>\n",
       "      <th>n_rooms</th>\n",
       "      <th>n_bathrooms</th>\n",
       "      <th>buy_price</th>\n",
       "      <th>buy_price_by_area</th>\n",
       "    </tr>\n",
       "  </thead>\n",
       "  <tbody>\n",
       "    <tr>\n",
       "      <th>0</th>\n",
       "      <td>21742</td>\n",
       "      <td>San Cristóbal</td>\n",
       "      <td>64.0</td>\n",
       "      <td>2</td>\n",
       "      <td>1.0</td>\n",
       "      <td>85000</td>\n",
       "      <td>1328</td>\n",
       "    </tr>\n",
       "    <tr>\n",
       "      <th>1</th>\n",
       "      <td>21741</td>\n",
       "      <td>Los Ángeles</td>\n",
       "      <td>70.0</td>\n",
       "      <td>3</td>\n",
       "      <td>1.0</td>\n",
       "      <td>129900</td>\n",
       "      <td>1856</td>\n",
       "    </tr>\n",
       "    <tr>\n",
       "      <th>2</th>\n",
       "      <td>21740</td>\n",
       "      <td>San Andrés</td>\n",
       "      <td>94.0</td>\n",
       "      <td>2</td>\n",
       "      <td>2.0</td>\n",
       "      <td>144247</td>\n",
       "      <td>1535</td>\n",
       "    </tr>\n",
       "    <tr>\n",
       "      <th>3</th>\n",
       "      <td>21739</td>\n",
       "      <td>San Andrés</td>\n",
       "      <td>64.0</td>\n",
       "      <td>2</td>\n",
       "      <td>1.0</td>\n",
       "      <td>109900</td>\n",
       "      <td>1717</td>\n",
       "    </tr>\n",
       "    <tr>\n",
       "      <th>4</th>\n",
       "      <td>21738</td>\n",
       "      <td>Los Rosales</td>\n",
       "      <td>108.0</td>\n",
       "      <td>2</td>\n",
       "      <td>2.0</td>\n",
       "      <td>260000</td>\n",
       "      <td>2407</td>\n",
       "    </tr>\n",
       "  </tbody>\n",
       "</table>\n",
       "</div>"
      ],
      "text/plain": [
       "      id       district  sq_mt_built  n_rooms  n_bathrooms  buy_price  \\\n",
       "0  21742  San Cristóbal         64.0        2          1.0      85000   \n",
       "1  21741    Los Ángeles         70.0        3          1.0     129900   \n",
       "2  21740     San Andrés         94.0        2          2.0     144247   \n",
       "3  21739     San Andrés         64.0        2          1.0     109900   \n",
       "4  21738    Los Rosales        108.0        2          2.0     260000   \n",
       "\n",
       "   buy_price_by_area  \n",
       "0               1328  \n",
       "1               1856  \n",
       "2               1535  \n",
       "3               1717  \n",
       "4               2407  "
      ]
     },
     "execution_count": 45,
     "metadata": {},
     "output_type": "execute_result"
    }
   ],
   "source": [
    "data.head()"
   ]
  },
  {
   "cell_type": "markdown",
   "metadata": {},
   "source": [
    "### Location or Size: What influences House Prices in Madrid? \n",
    "    Do housing prices vary by district? If so, which are the most expensive districts for purchasing a house?"
   ]
  },
  {
   "cell_type": "code",
   "execution_count": 46,
   "metadata": {},
   "outputs": [
    {
     "data": {
      "text/plain": [
       "<Axes: title={'center': 'Mean Price by District'}, xlabel='District', ylabel='Mean Price'>"
      ]
     },
     "execution_count": 46,
     "metadata": {},
     "output_type": "execute_result"
    },
    {
     "data": {
      "image/png": "[encoded data removed]",
      "text/plain": [
       "<Figure size 640x480 with 1 Axes>"
      ]
     },
     "metadata": {},
     "output_type": "display_data"
    }
   ],
   "source": [
    "mean_price = data.groupby('district')['buy_price'].mean().sort_values(ascending=False)\n",
    "mean_price.head(10).plot(kind='bar', xlabel='District', ylabel='Mean Price', title='Mean Price by District')"
   ]
  },
  {
   "cell_type": "code",
   "execution_count": 47,
   "metadata": {},
   "outputs": [
    {
     "data": {
      "text/plain": [
       "<Axes: title={'center': 'Mean Price by District'}, xlabel='District', ylabel='Mean Price'>"
      ]
     },
     "execution_count": 47,
     "metadata": {},
     "output_type": "execute_result"
    },
    {
     "data": {
      "image/png": "[encoded data removed]",
      "text/plain": [
       "<Figure size 640x480 with 1 Axes>"
      ]
     },
     "metadata": {},
     "output_type": "display_data"
    }
   ],
   "source": [
    "mean_price = data.groupby('district')['buy_price_by_area'].mean().sort_values(ascending=False)\n",
    "mean_price.head(10).plot(kind='bar', xlabel='District', ylabel='Mean Price', title='Mean Price by District')"
   ]
  },
  {
   "cell_type": "code",
   "execution_count": 48,
   "metadata": {},
   "outputs": [],
   "source": [
    "# from the second bar chart, the districts of Recoletos, Castellana, Barrio de Salamanca are all in the district of Salamanca\n",
    "#  which is one of the wealthiest and most expensive for living in Madrid.\n",
    "# This means that ordering by buy_price_by_area is more accurate and can be used over buy_price."
   ]
  },
  {
   "cell_type": "code",
   "execution_count": 49,
   "metadata": {},
   "outputs": [
    {
     "name": "stderr",
     "output_type": "stream",
     "text": [
      "C:\\Users\\Hussein\\AppData\\Local\\Temp\\ipykernel_20752\\1160102378.py:2: SettingWithCopyWarning:\n",
      "\n",
      "\n",
      "A value is trying to be set on a copy of a slice from a DataFrame\n",
      "\n",
      "See the caveats in the documentation: https://pandas.pydata.org/pandas-docs/stable/user_guide/indexing.html#returning-a-view-versus-a-copy\n",
      "\n"
     ]
    },
    {
     "data": {
      "text/html": [
       "<div>\n",
       "<style scoped>\n",
       "    .dataframe tbody tr th:only-of-type {\n",
       "        vertical-align: middle;\n",
       "    }\n",
       "\n",
       "    .dataframe tbody tr th {\n",
       "        vertical-align: top;\n",
       "    }\n",
       "\n",
       "    .dataframe thead th {\n",
       "        text-align: right;\n",
       "    }\n",
       "</style>\n",
       "<table border=\"1\" class=\"dataframe\">\n",
       "  <thead>\n",
       "    <tr style=\"text-align: right;\">\n",
       "      <th></th>\n",
       "      <th>id</th>\n",
       "      <th>district</th>\n",
       "      <th>sq_mt_built</th>\n",
       "      <th>n_rooms</th>\n",
       "      <th>n_bathrooms</th>\n",
       "      <th>buy_price</th>\n",
       "      <th>buy_price_by_area</th>\n",
       "    </tr>\n",
       "  </thead>\n",
       "  <tbody>\n",
       "    <tr>\n",
       "      <th>20138</th>\n",
       "      <td>1604</td>\n",
       "      <td>Recoletos</td>\n",
       "      <td>300.0</td>\n",
       "      <td>5</td>\n",
       "      <td>3.0</td>\n",
       "      <td>2100000</td>\n",
       "      <td>7000</td>\n",
       "    </tr>\n",
       "    <tr>\n",
       "      <th>19789</th>\n",
       "      <td>1953</td>\n",
       "      <td>Recoletos</td>\n",
       "      <td>72.0</td>\n",
       "      <td>2</td>\n",
       "      <td>2.0</td>\n",
       "      <td>750000</td>\n",
       "      <td>10417</td>\n",
       "    </tr>\n",
       "    <tr>\n",
       "      <th>19824</th>\n",
       "      <td>1918</td>\n",
       "      <td>Recoletos</td>\n",
       "      <td>312.0</td>\n",
       "      <td>4</td>\n",
       "      <td>5.0</td>\n",
       "      <td>2500000</td>\n",
       "      <td>8013</td>\n",
       "    </tr>\n",
       "    <tr>\n",
       "      <th>19979</th>\n",
       "      <td>1763</td>\n",
       "      <td>Recoletos</td>\n",
       "      <td>349.0</td>\n",
       "      <td>5</td>\n",
       "      <td>3.0</td>\n",
       "      <td>2490000</td>\n",
       "      <td>7135</td>\n",
       "    </tr>\n",
       "    <tr>\n",
       "      <th>20090</th>\n",
       "      <td>1652</td>\n",
       "      <td>Recoletos</td>\n",
       "      <td>343.0</td>\n",
       "      <td>3</td>\n",
       "      <td>4.0</td>\n",
       "      <td>2900000</td>\n",
       "      <td>8455</td>\n",
       "    </tr>\n",
       "    <tr>\n",
       "      <th>19750</th>\n",
       "      <td>1992</td>\n",
       "      <td>Recoletos</td>\n",
       "      <td>226.0</td>\n",
       "      <td>5</td>\n",
       "      <td>2.0</td>\n",
       "      <td>1550000</td>\n",
       "      <td>6858</td>\n",
       "    </tr>\n",
       "    <tr>\n",
       "      <th>19598</th>\n",
       "      <td>2144</td>\n",
       "      <td>Recoletos</td>\n",
       "      <td>220.0</td>\n",
       "      <td>4</td>\n",
       "      <td>6.0</td>\n",
       "      <td>2400000</td>\n",
       "      <td>10909</td>\n",
       "    </tr>\n",
       "    <tr>\n",
       "      <th>20137</th>\n",
       "      <td>1605</td>\n",
       "      <td>Recoletos</td>\n",
       "      <td>236.0</td>\n",
       "      <td>4</td>\n",
       "      <td>3.0</td>\n",
       "      <td>1950000</td>\n",
       "      <td>8263</td>\n",
       "    </tr>\n",
       "    <tr>\n",
       "      <th>19151</th>\n",
       "      <td>2591</td>\n",
       "      <td>Recoletos</td>\n",
       "      <td>467.0</td>\n",
       "      <td>6</td>\n",
       "      <td>5.0</td>\n",
       "      <td>4200000</td>\n",
       "      <td>8994</td>\n",
       "    </tr>\n",
       "    <tr>\n",
       "      <th>19691</th>\n",
       "      <td>2051</td>\n",
       "      <td>Recoletos</td>\n",
       "      <td>247.0</td>\n",
       "      <td>2</td>\n",
       "      <td>3.0</td>\n",
       "      <td>2200000</td>\n",
       "      <td>8907</td>\n",
       "    </tr>\n",
       "  </tbody>\n",
       "</table>\n",
       "</div>"
      ],
      "text/plain": [
       "         id   district  sq_mt_built  n_rooms  n_bathrooms  buy_price  \\\n",
       "20138  1604  Recoletos        300.0        5          3.0    2100000   \n",
       "19789  1953  Recoletos         72.0        2          2.0     750000   \n",
       "19824  1918  Recoletos        312.0        4          5.0    2500000   \n",
       "19979  1763  Recoletos        349.0        5          3.0    2490000   \n",
       "20090  1652  Recoletos        343.0        3          4.0    2900000   \n",
       "19750  1992  Recoletos        226.0        5          2.0    1550000   \n",
       "19598  2144  Recoletos        220.0        4          6.0    2400000   \n",
       "20137  1605  Recoletos        236.0        4          3.0    1950000   \n",
       "19151  2591  Recoletos        467.0        6          5.0    4200000   \n",
       "19691  2051  Recoletos        247.0        2          3.0    2200000   \n",
       "\n",
       "       buy_price_by_area  \n",
       "20138               7000  \n",
       "19789              10417  \n",
       "19824               8013  \n",
       "19979               7135  \n",
       "20090               8455  \n",
       "19750               6858  \n",
       "19598              10909  \n",
       "20137               8263  \n",
       "19151               8994  \n",
       "19691               8907  "
      ]
     },
     "execution_count": 49,
     "metadata": {},
     "output_type": "execute_result"
    }
   ],
   "source": [
    "recoletos = data.query('district == \"Recoletos\" ')\n",
    "recoletos.dropna(inplace=True)\n",
    "recoletos.sample(10)"
   ]
  },
  {
   "cell_type": "code",
   "execution_count": 50,
   "metadata": {},
   "outputs": [
    {
     "data": {
      "text/plain": [
       "(112, 7)"
      ]
     },
     "execution_count": 50,
     "metadata": {},
     "output_type": "execute_result"
    }
   ],
   "source": [
    "recoletos.shape"
   ]
  },
  {
   "cell_type": "markdown",
   "metadata": {},
   "source": [
    "# 4. Linear Regression"
   ]
  },
  {
   "cell_type": "markdown",
   "metadata": {},
   "source": [
    "## Use Linear Regression to predict the price per square meter in Recoletos, Madrid"
   ]
  },
  {
   "cell_type": "code",
   "execution_count": 51,
   "metadata": {},
   "outputs": [
    {
     "name": "stderr",
     "output_type": "stream",
     "text": [
      "C:\\Users\\Hussein\\AppData\\Local\\Temp\\ipykernel_20752\\2564200851.py:2: SettingWithCopyWarning:\n",
      "\n",
      "\n",
      "A value is trying to be set on a copy of a slice from a DataFrame.\n",
      "Try using .loc[row_indexer,col_indexer] = value instead\n",
      "\n",
      "See the caveats in the documentation: https://pandas.pydata.org/pandas-docs/stable/user_guide/indexing.html#returning-a-view-versus-a-copy\n",
      "\n"
     ]
    },
    {
     "data": {
      "text/html": [
       "<table class=\"simpletable\">\n",
       "<caption>OLS Regression Results</caption>\n",
       "<tr>\n",
       "  <th>Dep. Variable:</th>        <td>buy_price</td>    <th>  R-squared:         </th> <td>   0.831</td>\n",
       "</tr>\n",
       "<tr>\n",
       "  <th>Model:</th>                   <td>OLS</td>       <th>  Adj. R-squared:    </th> <td>   0.830</td>\n",
       "</tr>\n",
       "<tr>\n",
       "  <th>Method:</th>             <td>Least Squares</td>  <th>  F-statistic:       </th> <td>   542.0</td>\n",
       "</tr>\n",
       "<tr>\n",
       "  <th>Date:</th>             <td>Sun, 08 Sep 2024</td> <th>  Prob (F-statistic):</th> <td>2.59e-44</td>\n",
       "</tr>\n",
       "<tr>\n",
       "  <th>Time:</th>                 <td>21:39:12</td>     <th>  Log-Likelihood:    </th> <td> -1639.9</td>\n",
       "</tr>\n",
       "<tr>\n",
       "  <th>No. Observations:</th>      <td>   112</td>      <th>  AIC:               </th> <td>   3284.</td>\n",
       "</tr>\n",
       "<tr>\n",
       "  <th>Df Residuals:</th>          <td>   110</td>      <th>  BIC:               </th> <td>   3289.</td>\n",
       "</tr>\n",
       "<tr>\n",
       "  <th>Df Model:</th>              <td>     1</td>      <th>                     </th>     <td> </td>   \n",
       "</tr>\n",
       "<tr>\n",
       "  <th>Covariance Type:</th>      <td>nonrobust</td>    <th>                     </th>     <td> </td>   \n",
       "</tr>\n",
       "</table>\n",
       "<table class=\"simpletable\">\n",
       "<tr>\n",
       "       <td></td>          <th>coef</th>     <th>std err</th>      <th>t</th>      <th>P>|t|</th>  <th>[0.025</th>    <th>0.975]</th>  \n",
       "</tr>\n",
       "<tr>\n",
       "  <th>intercept</th>   <td> -3.85e+04</td> <td> 1.09e+05</td> <td>   -0.355</td> <td> 0.723</td> <td>-2.54e+05</td> <td> 1.77e+05</td>\n",
       "</tr>\n",
       "<tr>\n",
       "  <th>sq_mt_built</th> <td> 8961.9570</td> <td>  384.960</td> <td>   23.280</td> <td> 0.000</td> <td> 8199.057</td> <td> 9724.857</td>\n",
       "</tr>\n",
       "</table>\n",
       "<table class=\"simpletable\">\n",
       "<tr>\n",
       "  <th>Omnibus:</th>       <td>11.298</td> <th>  Durbin-Watson:     </th> <td>   2.059</td>\n",
       "</tr>\n",
       "<tr>\n",
       "  <th>Prob(Omnibus):</th> <td> 0.004</td> <th>  Jarque-Bera (JB):  </th> <td>  15.540</td>\n",
       "</tr>\n",
       "<tr>\n",
       "  <th>Skew:</th>          <td> 0.512</td> <th>  Prob(JB):          </th> <td>0.000422</td>\n",
       "</tr>\n",
       "<tr>\n",
       "  <th>Kurtosis:</th>      <td> 4.510</td> <th>  Cond. No.          </th> <td>    580.</td>\n",
       "</tr>\n",
       "</table><br/><br/>Notes:<br/>[1] Standard Errors assume that the covariance matrix of the errors is correctly specified."
      ],
      "text/latex": [
       "\\begin{center}\n",
       "\\begin{tabular}{lclc}\n",
       "\\toprule\n",
       "\\textbf{Dep. Variable:}    &    buy\\_price    & \\textbf{  R-squared:         } &     0.831   \\\\\n",
       "\\textbf{Model:}            &       OLS        & \\textbf{  Adj. R-squared:    } &     0.830   \\\\\n",
       "\\textbf{Method:}           &  Least Squares   & \\textbf{  F-statistic:       } &     542.0   \\\\\n",
       "\\textbf{Date:}             & Sun, 08 Sep 2024 & \\textbf{  Prob (F-statistic):} &  2.59e-44   \\\\\n",
       "\\textbf{Time:}             &     21:39:12     & \\textbf{  Log-Likelihood:    } &   -1639.9   \\\\\n",
       "\\textbf{No. Observations:} &         112      & \\textbf{  AIC:               } &     3284.   \\\\\n",
       "\\textbf{Df Residuals:}     &         110      & \\textbf{  BIC:               } &     3289.   \\\\\n",
       "\\textbf{Df Model:}         &           1      & \\textbf{                     } &             \\\\\n",
       "\\textbf{Covariance Type:}  &    nonrobust     & \\textbf{                     } &             \\\\\n",
       "\\bottomrule\n",
       "\\end{tabular}\n",
       "\\begin{tabular}{lcccccc}\n",
       "                       & \\textbf{coef} & \\textbf{std err} & \\textbf{t} & \\textbf{P$> |$t$|$} & \\textbf{[0.025} & \\textbf{0.975]}  \\\\\n",
       "\\midrule\n",
       "\\textbf{intercept}     &    -3.85e+04  &     1.09e+05     &    -0.355  &         0.723        &    -2.54e+05    &     1.77e+05     \\\\\n",
       "\\textbf{sq\\_mt\\_built} &    8961.9570  &      384.960     &    23.280  &         0.000        &     8199.057    &     9724.857     \\\\\n",
       "\\bottomrule\n",
       "\\end{tabular}\n",
       "\\begin{tabular}{lclc}\n",
       "\\textbf{Omnibus:}       & 11.298 & \\textbf{  Durbin-Watson:     } &    2.059  \\\\\n",
       "\\textbf{Prob(Omnibus):} &  0.004 & \\textbf{  Jarque-Bera (JB):  } &   15.540  \\\\\n",
       "\\textbf{Skew:}          &  0.512 & \\textbf{  Prob(JB):          } & 0.000422  \\\\\n",
       "\\textbf{Kurtosis:}      &  4.510 & \\textbf{  Cond. No.          } &     580.  \\\\\n",
       "\\bottomrule\n",
       "\\end{tabular}\n",
       "%\\caption{OLS Regression Results}\n",
       "\\end{center}\n",
       "\n",
       "Notes: \\newline\n",
       " [1] Standard Errors assume that the covariance matrix of the errors is correctly specified."
      ],
      "text/plain": [
       "<class 'statsmodels.iolib.summary.Summary'>\n",
       "\"\"\"\n",
       "                            OLS Regression Results                            \n",
       "==============================================================================\n",
       "Dep. Variable:              buy_price   R-squared:                       0.831\n",
       "Model:                            OLS   Adj. R-squared:                  0.830\n",
       "Method:                 Least Squares   F-statistic:                     542.0\n",
       "Date:                Sun, 08 Sep 2024   Prob (F-statistic):           2.59e-44\n",
       "Time:                        21:39:12   Log-Likelihood:                -1639.9\n",
       "No. Observations:                 112   AIC:                             3284.\n",
       "Df Residuals:                     110   BIC:                             3289.\n",
       "Df Model:                           1                                         \n",
       "Covariance Type:            nonrobust                                         \n",
       "===============================================================================\n",
       "                  coef    std err          t      P>|t|      [0.025      0.975]\n",
       "-------------------------------------------------------------------------------\n",
       "intercept    -3.85e+04   1.09e+05     -0.355      0.723   -2.54e+05    1.77e+05\n",
       "sq_mt_built  8961.9570    384.960     23.280      0.000    8199.057    9724.857\n",
       "==============================================================================\n",
       "Omnibus:                       11.298   Durbin-Watson:                   2.059\n",
       "Prob(Omnibus):                  0.004   Jarque-Bera (JB):               15.540\n",
       "Skew:                           0.512   Prob(JB):                     0.000422\n",
       "Kurtosis:                       4.510   Cond. No.                         580.\n",
       "==============================================================================\n",
       "\n",
       "Notes:\n",
       "[1] Standard Errors assume that the covariance matrix of the errors is correctly specified.\n",
       "\"\"\""
      ]
     },
     "execution_count": 51,
     "metadata": {},
     "output_type": "execute_result"
    }
   ],
   "source": [
    "import statsmodels.api as sm\n",
    "recoletos['intercept'] = 1\n",
    "\n",
    "# We use OLS: Ordinary Least Squares method for regression\n",
    "linear_model = sm.OLS(recoletos['buy_price'], recoletos[['intercept', 'sq_mt_built']])\n",
    "result = linear_model.fit()\n",
    "result.summary()"
   ]
  },
  {
   "cell_type": "markdown",
   "metadata": {},
   "source": [
    "#### From the linear regression we performed, we can see that:\n",
    "    'Dep. Variable:\tbuy_price\tR-squared:\t0.833'\n",
    "    this means that 83.3% of 'buy_price' variable is affected by the area in m2, where R-squared referes to the correlation coefficient,\n",
    "    'buy_price' is the dependent variable and 'sq_mt_built' or area (m2) is the independent variable. "
   ]
  },
  {
   "cell_type": "markdown",
   "metadata": {},
   "source": [
    "\t        \tcoef\t        P>|t|\t\n",
    "intercept   \t-3.85e+04\t\t0.723\t\n",
    "sq_mt_built\t\t8961.9570\t\t0.000\t\n",
    "\n",
    "\n",
    "coefficient of intercept = -38500\n",
    "\n",
    "the P-value with respect to the 'sq_mt_built' is 0, meaning this variable is statistically useful to study/determine/know the buy price\n",
    "Furthermore, according to this regression, the output coefficient suggests that the price per 1 square meter in Recoletos is expected to be 8961.9570€\n",
    "\n",
    "This is very useful if we want to predict the price of an apartment in this district if we know its area using the following equation:\n",
    "\n",
    "y = b0 + b1 * x\n",
    "target = intercept + slope * feature\n"
   ]
  },
  {
   "cell_type": "code",
   "execution_count": 52,
   "metadata": {},
   "outputs": [
    {
     "name": "stdout",
     "output_type": "stream",
     "text": [
      "Predicted price of Flat in Recoletos with an area of 300 m2 = 2649800 €\n"
     ]
    }
   ],
   "source": [
    "area = 300\n",
    "# price = coefficient of intercept + coefficient of sq_mt_built * area\n",
    "price = -38500 + 8961 * area\n",
    "\n",
    "print(\"Predicted price of Flat in Recoletos with an area of {} m2 = {} €\".format(area, price))"
   ]
  },
  {
   "cell_type": "code",
   "execution_count": null,
   "metadata": {},
   "outputs": [],
   "source": []
  },
  {
   "cell_type": "code",
   "execution_count": 53,
   "metadata": {},
   "outputs": [
    {
     "data": {
      "text/plain": [
       "Text(0.5, 1.0, 'Corrleation between: Buy Price, Area (sqm), #Rooms, #Bathrooms')"
      ]
     },
     "execution_count": 53,
     "metadata": {},
     "output_type": "execute_result"
    },
    {
     "data": {
      "image/png": "[encoded data removed]",
      "text/plain": [
       "<Figure size 640x480 with 2 Axes>"
      ]
     },
     "metadata": {},
     "output_type": "display_data"
    }
   ],
   "source": [
    "corr_data = data[['buy_price', 'sq_mt_built', 'n_rooms', 'n_bathrooms' ]]\n",
    "sns.heatmap(corr_data.corr(), annot=True)\n",
    "plt.title('Corrleation between: Buy Price, Area (sqm), #Rooms, #Bathrooms')"
   ]
  },
  {
   "cell_type": "code",
   "execution_count": 54,
   "metadata": {},
   "outputs": [],
   "source": [
    "# since there is strong corrleation between buy_price and sq_mt_built as well as buy_price and n_bathrooms, we want to study the accuracy of the regression model when both\n",
    "# sq_mt_built and n_bathrooms are taken into consideration as two features instead of single feature as before\n",
    "# this is known as multi-linear regression"
   ]
  },
  {
   "cell_type": "code",
   "execution_count": 55,
   "metadata": {},
   "outputs": [
    {
     "data": {
      "text/html": [
       "<table class=\"simpletable\">\n",
       "<caption>OLS Regression Results</caption>\n",
       "<tr>\n",
       "  <th>Dep. Variable:</th>        <td>buy_price</td>    <th>  R-squared:         </th> <td>   0.844</td>\n",
       "</tr>\n",
       "<tr>\n",
       "  <th>Model:</th>                   <td>OLS</td>       <th>  Adj. R-squared:    </th> <td>   0.841</td>\n",
       "</tr>\n",
       "<tr>\n",
       "  <th>Method:</th>             <td>Least Squares</td>  <th>  F-statistic:       </th> <td>   295.2</td>\n",
       "</tr>\n",
       "<tr>\n",
       "  <th>Date:</th>             <td>Sun, 08 Sep 2024</td> <th>  Prob (F-statistic):</th> <td>1.01e-44</td>\n",
       "</tr>\n",
       "<tr>\n",
       "  <th>Time:</th>                 <td>21:39:12</td>     <th>  Log-Likelihood:    </th> <td> -1635.5</td>\n",
       "</tr>\n",
       "<tr>\n",
       "  <th>No. Observations:</th>      <td>   112</td>      <th>  AIC:               </th> <td>   3277.</td>\n",
       "</tr>\n",
       "<tr>\n",
       "  <th>Df Residuals:</th>          <td>   109</td>      <th>  BIC:               </th> <td>   3285.</td>\n",
       "</tr>\n",
       "<tr>\n",
       "  <th>Df Model:</th>              <td>     2</td>      <th>                     </th>     <td> </td>   \n",
       "</tr>\n",
       "<tr>\n",
       "  <th>Covariance Type:</th>      <td>nonrobust</td>    <th>                     </th>     <td> </td>   \n",
       "</tr>\n",
       "</table>\n",
       "<table class=\"simpletable\">\n",
       "<tr>\n",
       "       <td></td>          <th>coef</th>     <th>std err</th>      <th>t</th>      <th>P>|t|</th>  <th>[0.025</th>    <th>0.975]</th>  \n",
       "</tr>\n",
       "<tr>\n",
       "  <th>intercept</th>   <td>-2.118e+05</td> <td>  1.2e+05</td> <td>   -1.770</td> <td> 0.080</td> <td>-4.49e+05</td> <td> 2.54e+04</td>\n",
       "</tr>\n",
       "<tr>\n",
       "  <th>sq_mt_built</th> <td> 7861.6490</td> <td>  522.266</td> <td>   15.053</td> <td> 0.000</td> <td> 6826.534</td> <td> 8896.764</td>\n",
       "</tr>\n",
       "<tr>\n",
       "  <th>n_bathrooms</th> <td> 1.439e+05</td> <td>  4.8e+04</td> <td>    2.999</td> <td> 0.003</td> <td> 4.88e+04</td> <td> 2.39e+05</td>\n",
       "</tr>\n",
       "</table>\n",
       "<table class=\"simpletable\">\n",
       "<tr>\n",
       "  <th>Omnibus:</th>       <td>23.283</td> <th>  Durbin-Watson:     </th> <td>   2.170</td>\n",
       "</tr>\n",
       "<tr>\n",
       "  <th>Prob(Omnibus):</th> <td> 0.000</td> <th>  Jarque-Bera (JB):  </th> <td>  64.455</td>\n",
       "</tr>\n",
       "<tr>\n",
       "  <th>Skew:</th>          <td> 0.695</td> <th>  Prob(JB):          </th> <td>1.01e-14</td>\n",
       "</tr>\n",
       "<tr>\n",
       "  <th>Kurtosis:</th>      <td> 6.446</td> <th>  Cond. No.          </th> <td>    677.</td>\n",
       "</tr>\n",
       "</table><br/><br/>Notes:<br/>[1] Standard Errors assume that the covariance matrix of the errors is correctly specified."
      ],
      "text/latex": [
       "\\begin{center}\n",
       "\\begin{tabular}{lclc}\n",
       "\\toprule\n",
       "\\textbf{Dep. Variable:}    &    buy\\_price    & \\textbf{  R-squared:         } &     0.844   \\\\\n",
       "\\textbf{Model:}            &       OLS        & \\textbf{  Adj. R-squared:    } &     0.841   \\\\\n",
       "\\textbf{Method:}           &  Least Squares   & \\textbf{  F-statistic:       } &     295.2   \\\\\n",
       "\\textbf{Date:}             & Sun, 08 Sep 2024 & \\textbf{  Prob (F-statistic):} &  1.01e-44   \\\\\n",
       "\\textbf{Time:}             &     21:39:12     & \\textbf{  Log-Likelihood:    } &   -1635.5   \\\\\n",
       "\\textbf{No. Observations:} &         112      & \\textbf{  AIC:               } &     3277.   \\\\\n",
       "\\textbf{Df Residuals:}     &         109      & \\textbf{  BIC:               } &     3285.   \\\\\n",
       "\\textbf{Df Model:}         &           2      & \\textbf{                     } &             \\\\\n",
       "\\textbf{Covariance Type:}  &    nonrobust     & \\textbf{                     } &             \\\\\n",
       "\\bottomrule\n",
       "\\end{tabular}\n",
       "\\begin{tabular}{lcccccc}\n",
       "                       & \\textbf{coef} & \\textbf{std err} & \\textbf{t} & \\textbf{P$> |$t$|$} & \\textbf{[0.025} & \\textbf{0.975]}  \\\\\n",
       "\\midrule\n",
       "\\textbf{intercept}     &   -2.118e+05  &      1.2e+05     &    -1.770  &         0.080        &    -4.49e+05    &     2.54e+04     \\\\\n",
       "\\textbf{sq\\_mt\\_built} &    7861.6490  &      522.266     &    15.053  &         0.000        &     6826.534    &     8896.764     \\\\\n",
       "\\textbf{n\\_bathrooms}  &    1.439e+05  &      4.8e+04     &     2.999  &         0.003        &     4.88e+04    &     2.39e+05     \\\\\n",
       "\\bottomrule\n",
       "\\end{tabular}\n",
       "\\begin{tabular}{lclc}\n",
       "\\textbf{Omnibus:}       & 23.283 & \\textbf{  Durbin-Watson:     } &    2.170  \\\\\n",
       "\\textbf{Prob(Omnibus):} &  0.000 & \\textbf{  Jarque-Bera (JB):  } &   64.455  \\\\\n",
       "\\textbf{Skew:}          &  0.695 & \\textbf{  Prob(JB):          } & 1.01e-14  \\\\\n",
       "\\textbf{Kurtosis:}      &  6.446 & \\textbf{  Cond. No.          } &     677.  \\\\\n",
       "\\bottomrule\n",
       "\\end{tabular}\n",
       "%\\caption{OLS Regression Results}\n",
       "\\end{center}\n",
       "\n",
       "Notes: \\newline\n",
       " [1] Standard Errors assume that the covariance matrix of the errors is correctly specified."
      ],
      "text/plain": [
       "<class 'statsmodels.iolib.summary.Summary'>\n",
       "\"\"\"\n",
       "                            OLS Regression Results                            \n",
       "==============================================================================\n",
       "Dep. Variable:              buy_price   R-squared:                       0.844\n",
       "Model:                            OLS   Adj. R-squared:                  0.841\n",
       "Method:                 Least Squares   F-statistic:                     295.2\n",
       "Date:                Sun, 08 Sep 2024   Prob (F-statistic):           1.01e-44\n",
       "Time:                        21:39:12   Log-Likelihood:                -1635.5\n",
       "No. Observations:                 112   AIC:                             3277.\n",
       "Df Residuals:                     109   BIC:                             3285.\n",
       "Df Model:                           2                                         \n",
       "Covariance Type:            nonrobust                                         \n",
       "===============================================================================\n",
       "                  coef    std err          t      P>|t|      [0.025      0.975]\n",
       "-------------------------------------------------------------------------------\n",
       "intercept   -2.118e+05    1.2e+05     -1.770      0.080   -4.49e+05    2.54e+04\n",
       "sq_mt_built  7861.6490    522.266     15.053      0.000    6826.534    8896.764\n",
       "n_bathrooms  1.439e+05    4.8e+04      2.999      0.003    4.88e+04    2.39e+05\n",
       "==============================================================================\n",
       "Omnibus:                       23.283   Durbin-Watson:                   2.170\n",
       "Prob(Omnibus):                  0.000   Jarque-Bera (JB):               64.455\n",
       "Skew:                           0.695   Prob(JB):                     1.01e-14\n",
       "Kurtosis:                       6.446   Cond. No.                         677.\n",
       "==============================================================================\n",
       "\n",
       "Notes:\n",
       "[1] Standard Errors assume that the covariance matrix of the errors is correctly specified.\n",
       "\"\"\""
      ]
     },
     "execution_count": 55,
     "metadata": {},
     "output_type": "execute_result"
    }
   ],
   "source": [
    "# We use OLS: Ordinary Least Squares method for regression\n",
    "linear_model = sm.OLS(recoletos.buy_price, recoletos[['intercept', 'sq_mt_built','n_bathrooms']])\n",
    "result = linear_model.fit()\n",
    "result.summary()"
   ]
  },
  {
   "cell_type": "markdown",
   "metadata": {},
   "source": [
    "                coef\t\t    P>|t|\t\n",
    "intercept\t    -2.118e+05\t\t0.080\t\n",
    "sq_mt_built\t    7861.6490\t\t0.000\t\n",
    "n_bathrooms\t    1.439e+05\t\t0.003\t\n"
   ]
  },
  {
   "cell_type": "code",
   "execution_count": 56,
   "metadata": {},
   "outputs": [
    {
     "name": "stdout",
     "output_type": "stream",
     "text": [
      "Predicted price of Flat in Recoletos with an area of 300 m2 and 2 bathrooms = 2434300 €\n"
     ]
    }
   ],
   "source": [
    "# y = b0 + (b1 * x1) + (b2 * x2)\n",
    "# price = coefficient of intercept + (coefficient of sq_mt_built * area) + (coefficient of n_bathrooms * n_bath)\n",
    "\n",
    "area = 300\n",
    "n_bath = 2\n",
    "price = -211800 + (7861 * area) + (143900 * n_bath)\n",
    "\n",
    "print(\"Predicted price of Flat in Recoletos with an area of {} m2 and {} bathrooms = {} €\".format(area, n_bath, price))"
   ]
  },
  {
   "cell_type": "markdown",
   "metadata": {},
   "source": [
    "### This function is to allow the user to input a district name, area, and number of bathrooms, ... "
   ]
  },
  {
   "cell_type": "code",
   "execution_count": 57,
   "metadata": {},
   "outputs": [],
   "source": [
    "def predict_price(district_name, dependent_features=[], dependent_values=[]):\n",
    "\n",
    "    if len(dependent_features) != len(dependent_values):\n",
    "        print('Please Specify Correct Features & Values Input..')\n",
    "\n",
    "    else:\n",
    "        district_data = data.query(f'district == \"{district_name}\"')\n",
    "        district_data = district_data.dropna()\n",
    "\n",
    "        # Add intercept column\n",
    "        district_data.insert(0, 'intercept', value=1)\n",
    "        dependent_features.insert(0, 'intercept')\n",
    "\n",
    "        # Ordinary Least Squares regression\n",
    "        linear_model = sm.OLS(district_data['buy_price'], district_data[dependent_features])\n",
    "        result = linear_model.fit()\n",
    "\n",
    "        b0 = result.params.iloc[0]   # returns inception coefficient\n",
    "        result = result.params.iloc[1:] # returns dependent feature coefficient except for inception\n",
    "        price = b0\n",
    "\n",
    "        # Calculate predicted price\n",
    "        for b, x in zip(result, dependent_values):\n",
    "            price += (b*x)\n",
    "\n",
    "        print(f\"Predicted price of Flat in {district_name} = {price:,.0f} €\")\n"
   ]
  },
  {
   "cell_type": "markdown",
   "metadata": {},
   "source": [
    "#### Output Example:"
   ]
  },
  {
   "cell_type": "code",
   "execution_count": 58,
   "metadata": {},
   "outputs": [
    {
     "name": "stdout",
     "output_type": "stream",
     "text": [
      "Predicted price of Flat in Almagro = 1,831,717 €\n"
     ]
    }
   ],
   "source": [
    "predict_price(district_name='Almagro', dependent_features=['sq_mt_built', 'n_bathrooms'], dependent_values=[300, 2])"
   ]
  },
  {
   "cell_type": "code",
   "execution_count": 59,
   "metadata": {},
   "outputs": [
    {
     "name": "stdout",
     "output_type": "stream",
     "text": [
      "Predicted price of Flat in Goya = 1,880,353 €\n"
     ]
    }
   ],
   "source": [
    "predict_price(district_name='Goya', dependent_features=['sq_mt_built', 'n_bathrooms', 'n_rooms'], dependent_values=[300, 2, 4])"
   ]
  },
  {
   "cell_type": "code",
   "execution_count": 60,
   "metadata": {},
   "outputs": [
    {
     "name": "stdout",
     "output_type": "stream",
     "text": [
      "Predicted price of Flat in Lista = 1,592,954 €\n"
     ]
    }
   ],
   "source": [
    "predict_price(district_name='Lista', dependent_features=['sq_mt_built', 'n_bathrooms'], dependent_values=[300, 2])"
   ]
  },
  {
   "cell_type": "code",
   "execution_count": 61,
   "metadata": {},
   "outputs": [
    {
     "name": "stdout",
     "output_type": "stream",
     "text": [
      "Predicted price of Flat in Recoletos = 4,792,891 €\n"
     ]
    }
   ],
   "source": [
    "predict_price(district_name='Recoletos', dependent_features=['sq_mt_built', 'n_bathrooms'], dependent_values=[600, 2])"
   ]
  },
  {
   "cell_type": "code",
   "execution_count": null,
   "metadata": {},
   "outputs": [],
   "source": []
  },
  {
   "cell_type": "markdown",
   "metadata": {},
   "source": [
    "### Feel free to try your own choices"
   ]
  },
  {
   "cell_type": "code",
   "execution_count": 62,
   "metadata": {},
   "outputs": [
    {
     "data": {
      "text/plain": [
       "array(['San Cristóbal', 'Los Ángeles', 'San Andrés', 'Los Rosales',\n",
       "       'Villaverde', 'Butarque', 'Vicálvaro', 'Ambroz',\n",
       "       'Casco Histórico de Vicálvaro', 'El Cañaveral - Los Berrocales',\n",
       "       'Valdebernardo - Valderribas', 'Casco Histórico de Vallecas',\n",
       "       'Ensanche de Vallecas - La Gavia', 'Villa de Vallecas',\n",
       "       'Santa Eugenia', 'Orcasitas', 'Usera', 'San Fermín', 'Pradolongo',\n",
       "       'Zofío', 'Almendrales', 'Moscardó', '12 de Octubre-Orcasur',\n",
       "       'Valdeacederas', 'Tetuán', 'Berruguete', 'Cuatro Caminos',\n",
       "       'Cuzco-Castillejos', 'Bellas Vistas', 'Ventilla-Almenara',\n",
       "       'Retiro', 'Adelfas', 'Ibiza', 'Pacífico', 'Niño Jesús',\n",
       "       'Jerónimos', 'Estrella', 'Puente de Vallecas', 'Palomeras Bajas',\n",
       "       'San Diego', 'Palomeras sureste', 'Entrevías', 'Numancia',\n",
       "       'Portazgo', 'Aravaca', 'Argüelles', 'Moncloa',\n",
       "       'Ciudad Universitaria', 'Valdezarza', 'Fontarrón', 'Moratalaz',\n",
       "       'Vinateros', 'Marroquina', 'Media Legua', 'Horcajo', 'Pavones',\n",
       "       'Puerta del Ángel', 'Latina', 'Los Cármenes', 'Águilas', 'Lucero',\n",
       "       'Aluche', 'Campamento', 'Cuatro Vientos', 'Valdemarín',\n",
       "       'Casa de Campo', 'El Plantío', 'Fuencarral', 'Las Tablas',\n",
       "       'La Paz', 'Montecarmelo', 'Peñagrande', 'Tres Olivos - Valverde',\n",
       "       'Pilar', 'Mirasierra', 'El Pardo', 'Arroyo del Fresno',\n",
       "       'Fuentelarreina', 'Sanchinarro', 'Conde Orgaz-Piovera',\n",
       "       'Hortaleza', 'Palomas', 'Virgen del Cortijo - Manoteras',\n",
       "       'Valdebebas - Valdefuentes', 'Pinar del Rey', 'Canillas',\n",
       "       'Apóstol Santiago', 'Chamberí', 'Almagro', 'Trafalgar',\n",
       "       'Nuevos Ministerios-Ríos Rosas', 'Vallehermoso', 'Gaztambide',\n",
       "       'Arapiles', 'Ventas', 'Pueblo Nuevo', 'Atalaya', 'Quintana',\n",
       "       'San Juan Bautista', 'Ciudad Lineal', 'Costillares', 'Concepción',\n",
       "       'Colina', 'San Pascual', 'Chamartín', 'El Viso', 'Nueva España',\n",
       "       'Bernabéu-Hispanoamérica', 'Prosperidad', 'Castilla',\n",
       "       'Ciudad Jardín', 'Lavapiés-Embajadores', 'Opañel', 'Comillas',\n",
       "       'Abrantes', 'San Isidro', 'Carabanchel', 'Puerta Bonita',\n",
       "       'Vista Alegre', 'Pau de Carabanchel', 'Buena Vista',\n",
       "       'Huertas-Cortes', 'Malasaña-Universidad', 'Chueca-Justicia',\n",
       "       'Palacio', 'Centro', 'Sol', 'Barrio de Salamanca', 'Goya',\n",
       "       'Guindalera', 'Lista', 'Castellana', 'Recoletos',\n",
       "       'Fuente del Berro', 'Imperial', 'Chopera', 'Acacias', 'Delicias',\n",
       "       'Palos de Moguer', 'Legazpi', 'Arganzuela',\n",
       "       'Casco Histórico de Barajas', 'Alameda de Osuna', 'Barajas',\n",
       "       'Campo de las Naciones-Corralejos', 'Timón'], dtype=object)"
      ]
     },
     "execution_count": 62,
     "metadata": {},
     "output_type": "execute_result"
    }
   ],
   "source": [
    "data['district'].unique()"
   ]
  },
  {
   "cell_type": "code",
   "execution_count": 74,
   "metadata": {},
   "outputs": [
    {
     "name": "stdout",
     "output_type": "stream",
     "text": [
      "Predicted price of Flat in Conde Orgaz-Piovera = 1,759,301 €\n"
     ]
    }
   ],
   "source": [
    "random_district = random.choice(data['district'].unique())\n",
    "\n",
    "predict_price(district_name=random_district, dependent_features=['sq_mt_built', 'n_bathrooms'], dependent_values=[600, 2])"
   ]
  },
  {
   "cell_type": "code",
   "execution_count": null,
   "metadata": {},
   "outputs": [],
   "source": []
  }
 ],
 "metadata": {
  "kernelspec": {
   "display_name": "Python 3 (ipykernel)",
   "language": "python",
   "name": "python3"
  },
  "language_info": {
   "codemirror_mode": {
    "name": "ipython",
    "version": 3
   },
   "file_extension": ".py",
   "mimetype": "text/x-python",
   "name": "python",
   "nbconvert_exporter": "python",
   "pygments_lexer": "ipython3",
   "version": "3.12.5"
  }
 },
 "nbformat": 4,
 "nbformat_minor": 2
}
